{
  "cells": [
    {
      "cell_type": "markdown",
      "metadata": {
        "id": "view-in-github",
        "colab_type": "text"
      },
      "source": [
        "<a href=\"https://colab.research.google.com/github/mhmenze/ML_projects/blob/main/Mobile_Price_Classifier_KNN_and_Neural_Network_Models.ipynb\" target=\"_parent\"><img src=\"https://colab.research.google.com/assets/colab-badge.svg\" alt=\"Open In Colab\"/></a>"
      ]
    },
    {
      "cell_type": "markdown",
      "metadata": {
        "id": "Vvq6zXYdWX5b"
      },
      "source": [
        "# Introduction - The Problem\n",
        "\n",
        "**Index : AS2019459**\n",
        "\n",
        "**Resources referenced: [Example Notebook in LMS](https://github.com/tgi25/home/blob/master/mlp_mnist_v1.ipynb)**"
      ]
    },
    {
      "cell_type": "markdown",
      "metadata": {
        "id": "GsUfxOTGWX5g"
      },
      "source": [
        "Bob has started his own mobile company. He wants to give tough fight to big companies like Apple,\n",
        "Samsung, etc. He does not know how to estimate price of mobile phones his company manufactured. In\n",
        "this competitive market you cannot simply assume things. To solve this problem he collected sales data\n",
        "of mobile phones of various companies. Bob wants to find out some relation between features of mobile\n",
        "phones (e.g., RAM, Internal Memory, etc.) and their selling prices."
      ]
    },
    {
      "cell_type": "markdown",
      "metadata": {
        "id": "8eq7O6mSWX5j"
      },
      "source": [
        "## The Data\n",
        "\n",
        "Dataset:\n",
        "\n",
        "\n",
        "> 01. battery_power: Total energy a battery can store in one time measured in mAh\n",
        "02. blue: Has Bluetooth or not\n",
        "03. clock_speed: speed at which microprocessor executes instructions\n",
        "04. dual_sim: Has dual sim support or not\n",
        "05. fc: Front Camera mega pixels\n",
        "06. four_g: Has 4G or not\n",
        "07. int_memory: Internal Memory in Gigabytes\n",
        "08. m_dep: Depth in cm\n",
        "09. mobile_wt: Weight of mobile phone\n",
        "10. n_cores: Number of cores of processor\n",
        "11. pc: Primary Camera mega pixels\n",
        "12. px_height: Pixel Resolution Height\n",
        "13. px_width: Pixel Resolution Width\n",
        "14. ram: Random Access Memory in Megabytes\n",
        "15. sc_h: Screen Height of mobile in cm\n",
        "16. sc_w: Screen Width of mobile in cm\n",
        "17. talk_time: Longest time that a single battery charge will last\n",
        "18. three_g: Has 3G or not\n",
        "19. touch_screen: Has touch screen or not\n",
        "20. wifi – Has wifi or not\n",
        "21. price_range: four price ranges (0, 1, 2, 3)\n",
        "\n",
        "\n",
        "**There are 2,000 records in the dataset. Use 80% and 20% of this data for training and testing\n",
        "respectively.**"
      ]
    },
    {
      "cell_type": "markdown",
      "metadata": {
        "id": "twbfRO7pZHOi"
      },
      "source": [
        "## The Task for the Model\n",
        "\n",
        "Our goal is to construct and train an artificial neural network on 2000 data points of mobiles with their features and price ranges so that it may successfully identify others price ranges when presented. The data is split into 80% training and 20% testing set. We will use two different models here.\n",
        "\n",
        ">\n",
        "\n",
        "1.   Model 1 - K Nearest Neighbor method using SciKit Learn Python Package.\n",
        "2.   Model 2 - Building multilayer Neural Network with Keras Python API with TensorFlow as the backend.\n",
        "\n",
        "We will also be using matplotlib to plot the performance of the models."
      ]
    },
    {
      "cell_type": "markdown",
      "metadata": {
        "id": "c6UeP_IyWX5l"
      },
      "source": [
        "## Prerequisite Python Modules\n",
        "\n",
        "First, some packages need to be loaded into the Python environment."
      ]
    },
    {
      "cell_type": "code",
      "execution_count": 197,
      "metadata": {
        "id": "KQikOd12WX5n"
      },
      "outputs": [],
      "source": [
        "import pandas as pd                  # To read the dataset\n",
        "import numpy as np                   # advanced math library\n",
        "import matplotlib.pyplot as plt      # MATLAB like plotting routines\n",
        "import random                        # for generating random numbers\n",
        "\n",
        "from sklearn.model_selection import train_test_split   #Importing test train split function from the scikit learn python package"
      ]
    },
    {
      "cell_type": "markdown",
      "source": [
        "## Loading Training Data"
      ],
      "metadata": {
        "id": "W39VBDnC0OYc"
      }
    },
    {
      "cell_type": "markdown",
      "source": [
        "To read the dataset, first we store the CSV file as a pandas Dataframe. This allows us to perform advanced operations on the data."
      ],
      "metadata": {
        "id": "SPWw1TiUx4M-"
      }
    },
    {
      "cell_type": "code",
      "source": [
        "df = pd.read_csv(\"Mobile_Dataset.csv\");           #Store data set as a pandas dataframe\n",
        "df                                                #Display the dataframe"
      ],
      "metadata": {
        "colab": {
          "base_uri": "https://localhost:8080/",
          "height": 487
        },
        "id": "Uk_ungjsp3yB",
        "outputId": "74045fc2-baea-4dcf-f706-8011e131c4fb"
      },
      "execution_count": 198,
      "outputs": [
        {
          "output_type": "execute_result",
          "data": {
            "text/plain": [
              "      battery_power  blue  clock_speed  dual_sim  fc  four_g  int_memory  \\\n",
              "0               842     0          2.2         0   1       0           7   \n",
              "1              1021     1          0.5         1   0       1          53   \n",
              "2               563     1          0.5         1   2       1          41   \n",
              "3               615     1          2.5         0   0       0          10   \n",
              "4              1821     1          1.2         0  13       1          44   \n",
              "...             ...   ...          ...       ...  ..     ...         ...   \n",
              "1995            794     1          0.5         1   0       1           2   \n",
              "1996           1965     1          2.6         1   0       0          39   \n",
              "1997           1911     0          0.9         1   1       1          36   \n",
              "1998           1512     0          0.9         0   4       1          46   \n",
              "1999            510     1          2.0         1   5       1          45   \n",
              "\n",
              "      m_dep  mobile_wt  n_cores  ...  px_height  px_width   ram  sc_h  sc_w  \\\n",
              "0       0.6        188        2  ...         20       756  2549     9     7   \n",
              "1       0.7        136        3  ...        905      1988  2631    17     3   \n",
              "2       0.9        145        5  ...       1263      1716  2603    11     2   \n",
              "3       0.8        131        6  ...       1216      1786  2769    16     8   \n",
              "4       0.6        141        2  ...       1208      1212  1411     8     2   \n",
              "...     ...        ...      ...  ...        ...       ...   ...   ...   ...   \n",
              "1995    0.8        106        6  ...       1222      1890   668    13     4   \n",
              "1996    0.2        187        4  ...        915      1965  2032    11    10   \n",
              "1997    0.7        108        8  ...        868      1632  3057     9     1   \n",
              "1998    0.1        145        5  ...        336       670   869    18    10   \n",
              "1999    0.9        168        6  ...        483       754  3919    19     4   \n",
              "\n",
              "      talk_time  three_g  touch_screen  wifi  price_range  \n",
              "0            19        0             0     1            1  \n",
              "1             7        1             1     0            2  \n",
              "2             9        1             1     0            2  \n",
              "3            11        1             0     0            2  \n",
              "4            15        1             1     0            1  \n",
              "...         ...      ...           ...   ...          ...  \n",
              "1995         19        1             1     0            0  \n",
              "1996         16        1             1     1            2  \n",
              "1997          5        1             1     0            3  \n",
              "1998         19        1             1     1            0  \n",
              "1999          2        1             1     1            3  \n",
              "\n",
              "[2000 rows x 21 columns]"
            ],
            "text/html": [
              "\n",
              "  <div id=\"df-0cfb5b20-0a40-440e-acd5-bc499bca36d7\">\n",
              "    <div class=\"colab-df-container\">\n",
              "      <div>\n",
              "<style scoped>\n",
              "    .dataframe tbody tr th:only-of-type {\n",
              "        vertical-align: middle;\n",
              "    }\n",
              "\n",
              "    .dataframe tbody tr th {\n",
              "        vertical-align: top;\n",
              "    }\n",
              "\n",
              "    .dataframe thead th {\n",
              "        text-align: right;\n",
              "    }\n",
              "</style>\n",
              "<table border=\"1\" class=\"dataframe\">\n",
              "  <thead>\n",
              "    <tr style=\"text-align: right;\">\n",
              "      <th></th>\n",
              "      <th>battery_power</th>\n",
              "      <th>blue</th>\n",
              "      <th>clock_speed</th>\n",
              "      <th>dual_sim</th>\n",
              "      <th>fc</th>\n",
              "      <th>four_g</th>\n",
              "      <th>int_memory</th>\n",
              "      <th>m_dep</th>\n",
              "      <th>mobile_wt</th>\n",
              "      <th>n_cores</th>\n",
              "      <th>...</th>\n",
              "      <th>px_height</th>\n",
              "      <th>px_width</th>\n",
              "      <th>ram</th>\n",
              "      <th>sc_h</th>\n",
              "      <th>sc_w</th>\n",
              "      <th>talk_time</th>\n",
              "      <th>three_g</th>\n",
              "      <th>touch_screen</th>\n",
              "      <th>wifi</th>\n",
              "      <th>price_range</th>\n",
              "    </tr>\n",
              "  </thead>\n",
              "  <tbody>\n",
              "    <tr>\n",
              "      <th>0</th>\n",
              "      <td>842</td>\n",
              "      <td>0</td>\n",
              "      <td>2.2</td>\n",
              "      <td>0</td>\n",
              "      <td>1</td>\n",
              "      <td>0</td>\n",
              "      <td>7</td>\n",
              "      <td>0.6</td>\n",
              "      <td>188</td>\n",
              "      <td>2</td>\n",
              "      <td>...</td>\n",
              "      <td>20</td>\n",
              "      <td>756</td>\n",
              "      <td>2549</td>\n",
              "      <td>9</td>\n",
              "      <td>7</td>\n",
              "      <td>19</td>\n",
              "      <td>0</td>\n",
              "      <td>0</td>\n",
              "      <td>1</td>\n",
              "      <td>1</td>\n",
              "    </tr>\n",
              "    <tr>\n",
              "      <th>1</th>\n",
              "      <td>1021</td>\n",
              "      <td>1</td>\n",
              "      <td>0.5</td>\n",
              "      <td>1</td>\n",
              "      <td>0</td>\n",
              "      <td>1</td>\n",
              "      <td>53</td>\n",
              "      <td>0.7</td>\n",
              "      <td>136</td>\n",
              "      <td>3</td>\n",
              "      <td>...</td>\n",
              "      <td>905</td>\n",
              "      <td>1988</td>\n",
              "      <td>2631</td>\n",
              "      <td>17</td>\n",
              "      <td>3</td>\n",
              "      <td>7</td>\n",
              "      <td>1</td>\n",
              "      <td>1</td>\n",
              "      <td>0</td>\n",
              "      <td>2</td>\n",
              "    </tr>\n",
              "    <tr>\n",
              "      <th>2</th>\n",
              "      <td>563</td>\n",
              "      <td>1</td>\n",
              "      <td>0.5</td>\n",
              "      <td>1</td>\n",
              "      <td>2</td>\n",
              "      <td>1</td>\n",
              "      <td>41</td>\n",
              "      <td>0.9</td>\n",
              "      <td>145</td>\n",
              "      <td>5</td>\n",
              "      <td>...</td>\n",
              "      <td>1263</td>\n",
              "      <td>1716</td>\n",
              "      <td>2603</td>\n",
              "      <td>11</td>\n",
              "      <td>2</td>\n",
              "      <td>9</td>\n",
              "      <td>1</td>\n",
              "      <td>1</td>\n",
              "      <td>0</td>\n",
              "      <td>2</td>\n",
              "    </tr>\n",
              "    <tr>\n",
              "      <th>3</th>\n",
              "      <td>615</td>\n",
              "      <td>1</td>\n",
              "      <td>2.5</td>\n",
              "      <td>0</td>\n",
              "      <td>0</td>\n",
              "      <td>0</td>\n",
              "      <td>10</td>\n",
              "      <td>0.8</td>\n",
              "      <td>131</td>\n",
              "      <td>6</td>\n",
              "      <td>...</td>\n",
              "      <td>1216</td>\n",
              "      <td>1786</td>\n",
              "      <td>2769</td>\n",
              "      <td>16</td>\n",
              "      <td>8</td>\n",
              "      <td>11</td>\n",
              "      <td>1</td>\n",
              "      <td>0</td>\n",
              "      <td>0</td>\n",
              "      <td>2</td>\n",
              "    </tr>\n",
              "    <tr>\n",
              "      <th>4</th>\n",
              "      <td>1821</td>\n",
              "      <td>1</td>\n",
              "      <td>1.2</td>\n",
              "      <td>0</td>\n",
              "      <td>13</td>\n",
              "      <td>1</td>\n",
              "      <td>44</td>\n",
              "      <td>0.6</td>\n",
              "      <td>141</td>\n",
              "      <td>2</td>\n",
              "      <td>...</td>\n",
              "      <td>1208</td>\n",
              "      <td>1212</td>\n",
              "      <td>1411</td>\n",
              "      <td>8</td>\n",
              "      <td>2</td>\n",
              "      <td>15</td>\n",
              "      <td>1</td>\n",
              "      <td>1</td>\n",
              "      <td>0</td>\n",
              "      <td>1</td>\n",
              "    </tr>\n",
              "    <tr>\n",
              "      <th>...</th>\n",
              "      <td>...</td>\n",
              "      <td>...</td>\n",
              "      <td>...</td>\n",
              "      <td>...</td>\n",
              "      <td>...</td>\n",
              "      <td>...</td>\n",
              "      <td>...</td>\n",
              "      <td>...</td>\n",
              "      <td>...</td>\n",
              "      <td>...</td>\n",
              "      <td>...</td>\n",
              "      <td>...</td>\n",
              "      <td>...</td>\n",
              "      <td>...</td>\n",
              "      <td>...</td>\n",
              "      <td>...</td>\n",
              "      <td>...</td>\n",
              "      <td>...</td>\n",
              "      <td>...</td>\n",
              "      <td>...</td>\n",
              "      <td>...</td>\n",
              "    </tr>\n",
              "    <tr>\n",
              "      <th>1995</th>\n",
              "      <td>794</td>\n",
              "      <td>1</td>\n",
              "      <td>0.5</td>\n",
              "      <td>1</td>\n",
              "      <td>0</td>\n",
              "      <td>1</td>\n",
              "      <td>2</td>\n",
              "      <td>0.8</td>\n",
              "      <td>106</td>\n",
              "      <td>6</td>\n",
              "      <td>...</td>\n",
              "      <td>1222</td>\n",
              "      <td>1890</td>\n",
              "      <td>668</td>\n",
              "      <td>13</td>\n",
              "      <td>4</td>\n",
              "      <td>19</td>\n",
              "      <td>1</td>\n",
              "      <td>1</td>\n",
              "      <td>0</td>\n",
              "      <td>0</td>\n",
              "    </tr>\n",
              "    <tr>\n",
              "      <th>1996</th>\n",
              "      <td>1965</td>\n",
              "      <td>1</td>\n",
              "      <td>2.6</td>\n",
              "      <td>1</td>\n",
              "      <td>0</td>\n",
              "      <td>0</td>\n",
              "      <td>39</td>\n",
              "      <td>0.2</td>\n",
              "      <td>187</td>\n",
              "      <td>4</td>\n",
              "      <td>...</td>\n",
              "      <td>915</td>\n",
              "      <td>1965</td>\n",
              "      <td>2032</td>\n",
              "      <td>11</td>\n",
              "      <td>10</td>\n",
              "      <td>16</td>\n",
              "      <td>1</td>\n",
              "      <td>1</td>\n",
              "      <td>1</td>\n",
              "      <td>2</td>\n",
              "    </tr>\n",
              "    <tr>\n",
              "      <th>1997</th>\n",
              "      <td>1911</td>\n",
              "      <td>0</td>\n",
              "      <td>0.9</td>\n",
              "      <td>1</td>\n",
              "      <td>1</td>\n",
              "      <td>1</td>\n",
              "      <td>36</td>\n",
              "      <td>0.7</td>\n",
              "      <td>108</td>\n",
              "      <td>8</td>\n",
              "      <td>...</td>\n",
              "      <td>868</td>\n",
              "      <td>1632</td>\n",
              "      <td>3057</td>\n",
              "      <td>9</td>\n",
              "      <td>1</td>\n",
              "      <td>5</td>\n",
              "      <td>1</td>\n",
              "      <td>1</td>\n",
              "      <td>0</td>\n",
              "      <td>3</td>\n",
              "    </tr>\n",
              "    <tr>\n",
              "      <th>1998</th>\n",
              "      <td>1512</td>\n",
              "      <td>0</td>\n",
              "      <td>0.9</td>\n",
              "      <td>0</td>\n",
              "      <td>4</td>\n",
              "      <td>1</td>\n",
              "      <td>46</td>\n",
              "      <td>0.1</td>\n",
              "      <td>145</td>\n",
              "      <td>5</td>\n",
              "      <td>...</td>\n",
              "      <td>336</td>\n",
              "      <td>670</td>\n",
              "      <td>869</td>\n",
              "      <td>18</td>\n",
              "      <td>10</td>\n",
              "      <td>19</td>\n",
              "      <td>1</td>\n",
              "      <td>1</td>\n",
              "      <td>1</td>\n",
              "      <td>0</td>\n",
              "    </tr>\n",
              "    <tr>\n",
              "      <th>1999</th>\n",
              "      <td>510</td>\n",
              "      <td>1</td>\n",
              "      <td>2.0</td>\n",
              "      <td>1</td>\n",
              "      <td>5</td>\n",
              "      <td>1</td>\n",
              "      <td>45</td>\n",
              "      <td>0.9</td>\n",
              "      <td>168</td>\n",
              "      <td>6</td>\n",
              "      <td>...</td>\n",
              "      <td>483</td>\n",
              "      <td>754</td>\n",
              "      <td>3919</td>\n",
              "      <td>19</td>\n",
              "      <td>4</td>\n",
              "      <td>2</td>\n",
              "      <td>1</td>\n",
              "      <td>1</td>\n",
              "      <td>1</td>\n",
              "      <td>3</td>\n",
              "    </tr>\n",
              "  </tbody>\n",
              "</table>\n",
              "<p>2000 rows × 21 columns</p>\n",
              "</div>\n",
              "      <button class=\"colab-df-convert\" onclick=\"convertToInteractive('df-0cfb5b20-0a40-440e-acd5-bc499bca36d7')\"\n",
              "              title=\"Convert this dataframe to an interactive table.\"\n",
              "              style=\"display:none;\">\n",
              "        \n",
              "  <svg xmlns=\"http://www.w3.org/2000/svg\" height=\"24px\"viewBox=\"0 0 24 24\"\n",
              "       width=\"24px\">\n",
              "    <path d=\"M0 0h24v24H0V0z\" fill=\"none\"/>\n",
              "    <path d=\"M18.56 5.44l.94 2.06.94-2.06 2.06-.94-2.06-.94-.94-2.06-.94 2.06-2.06.94zm-11 1L8.5 8.5l.94-2.06 2.06-.94-2.06-.94L8.5 2.5l-.94 2.06-2.06.94zm10 10l.94 2.06.94-2.06 2.06-.94-2.06-.94-.94-2.06-.94 2.06-2.06.94z\"/><path d=\"M17.41 7.96l-1.37-1.37c-.4-.4-.92-.59-1.43-.59-.52 0-1.04.2-1.43.59L10.3 9.45l-7.72 7.72c-.78.78-.78 2.05 0 2.83L4 21.41c.39.39.9.59 1.41.59.51 0 1.02-.2 1.41-.59l7.78-7.78 2.81-2.81c.8-.78.8-2.07 0-2.86zM5.41 20L4 18.59l7.72-7.72 1.47 1.35L5.41 20z\"/>\n",
              "  </svg>\n",
              "      </button>\n",
              "      \n",
              "  <style>\n",
              "    .colab-df-container {\n",
              "      display:flex;\n",
              "      flex-wrap:wrap;\n",
              "      gap: 12px;\n",
              "    }\n",
              "\n",
              "    .colab-df-convert {\n",
              "      background-color: #E8F0FE;\n",
              "      border: none;\n",
              "      border-radius: 50%;\n",
              "      cursor: pointer;\n",
              "      display: none;\n",
              "      fill: #1967D2;\n",
              "      height: 32px;\n",
              "      padding: 0 0 0 0;\n",
              "      width: 32px;\n",
              "    }\n",
              "\n",
              "    .colab-df-convert:hover {\n",
              "      background-color: #E2EBFA;\n",
              "      box-shadow: 0px 1px 2px rgba(60, 64, 67, 0.3), 0px 1px 3px 1px rgba(60, 64, 67, 0.15);\n",
              "      fill: #174EA6;\n",
              "    }\n",
              "\n",
              "    [theme=dark] .colab-df-convert {\n",
              "      background-color: #3B4455;\n",
              "      fill: #D2E3FC;\n",
              "    }\n",
              "\n",
              "    [theme=dark] .colab-df-convert:hover {\n",
              "      background-color: #434B5C;\n",
              "      box-shadow: 0px 1px 3px 1px rgba(0, 0, 0, 0.15);\n",
              "      filter: drop-shadow(0px 1px 2px rgba(0, 0, 0, 0.3));\n",
              "      fill: #FFFFFF;\n",
              "    }\n",
              "  </style>\n",
              "\n",
              "      <script>\n",
              "        const buttonEl =\n",
              "          document.querySelector('#df-0cfb5b20-0a40-440e-acd5-bc499bca36d7 button.colab-df-convert');\n",
              "        buttonEl.style.display =\n",
              "          google.colab.kernel.accessAllowed ? 'block' : 'none';\n",
              "\n",
              "        async function convertToInteractive(key) {\n",
              "          const element = document.querySelector('#df-0cfb5b20-0a40-440e-acd5-bc499bca36d7');\n",
              "          const dataTable =\n",
              "            await google.colab.kernel.invokeFunction('convertToInteractive',\n",
              "                                                     [key], {});\n",
              "          if (!dataTable) return;\n",
              "\n",
              "          const docLinkHtml = 'Like what you see? Visit the ' +\n",
              "            '<a target=\"_blank\" href=https://colab.research.google.com/notebooks/data_table.ipynb>data table notebook</a>'\n",
              "            + ' to learn more about interactive tables.';\n",
              "          element.innerHTML = '';\n",
              "          dataTable['output_type'] = 'display_data';\n",
              "          await google.colab.output.renderOutput(dataTable, element);\n",
              "          const docLink = document.createElement('div');\n",
              "          docLink.innerHTML = docLinkHtml;\n",
              "          element.appendChild(docLink);\n",
              "        }\n",
              "      </script>\n",
              "    </div>\n",
              "  </div>\n",
              "  "
            ]
          },
          "metadata": {},
          "execution_count": 198
        }
      ]
    },
    {
      "cell_type": "markdown",
      "source": [
        "Here we can see that there are 2000 rows of data, and 21 columns. Of them, the last column is for the desired classification classes. Hence we have 20 input features."
      ],
      "metadata": {
        "id": "ATJYkS-syPn-"
      }
    },
    {
      "cell_type": "markdown",
      "source": [
        "# Model 1 - Using KNN algorithm with SciKit Learn package"
      ],
      "metadata": {
        "id": "bVs2HUNbVg8o"
      }
    },
    {
      "cell_type": "markdown",
      "source": [
        "## Preprocessing\n"
      ],
      "metadata": {
        "id": "pD6EPGuGuGIC"
      }
    },
    {
      "cell_type": "markdown",
      "source": [
        "> First the data separated into different dataframes as inputs and targets, inputs - X1 and targets - y1\n",
        "\n"
      ],
      "metadata": {
        "id": "UIBja0-z5Bo9"
      }
    },
    {
      "cell_type": "code",
      "source": [
        "y1 = df[\"price_range\"]     #Create a dataframe with the targets\n",
        "y1"
      ],
      "metadata": {
        "colab": {
          "base_uri": "https://localhost:8080/"
        },
        "id": "PpkxEX2W0y5K",
        "outputId": "f41bdf7a-1fcc-458c-b33b-6c21adcf85de"
      },
      "execution_count": 199,
      "outputs": [
        {
          "output_type": "execute_result",
          "data": {
            "text/plain": [
              "0       1\n",
              "1       2\n",
              "2       2\n",
              "3       2\n",
              "4       1\n",
              "       ..\n",
              "1995    0\n",
              "1996    2\n",
              "1997    3\n",
              "1998    0\n",
              "1999    3\n",
              "Name: price_range, Length: 2000, dtype: int64"
            ]
          },
          "metadata": {},
          "execution_count": 199
        }
      ]
    },
    {
      "cell_type": "markdown",
      "source": [
        "Here we can see the target column displayed above."
      ],
      "metadata": {
        "id": "k-nNBiRv1OdH"
      }
    },
    {
      "cell_type": "code",
      "source": [
        "X1 = df.drop([\"price_range\"], axis=1)    #Create a dataframe with the inputs other than target \"price_range\"\n",
        "X1"
      ],
      "metadata": {
        "colab": {
          "base_uri": "https://localhost:8080/",
          "height": 487
        },
        "id": "ZpFOQ3SM1ULu",
        "outputId": "1537ec07-4a3c-49f3-ffe6-62e0eccdb2a5"
      },
      "execution_count": 200,
      "outputs": [
        {
          "output_type": "execute_result",
          "data": {
            "text/plain": [
              "      battery_power  blue  clock_speed  dual_sim  fc  four_g  int_memory  \\\n",
              "0               842     0          2.2         0   1       0           7   \n",
              "1              1021     1          0.5         1   0       1          53   \n",
              "2               563     1          0.5         1   2       1          41   \n",
              "3               615     1          2.5         0   0       0          10   \n",
              "4              1821     1          1.2         0  13       1          44   \n",
              "...             ...   ...          ...       ...  ..     ...         ...   \n",
              "1995            794     1          0.5         1   0       1           2   \n",
              "1996           1965     1          2.6         1   0       0          39   \n",
              "1997           1911     0          0.9         1   1       1          36   \n",
              "1998           1512     0          0.9         0   4       1          46   \n",
              "1999            510     1          2.0         1   5       1          45   \n",
              "\n",
              "      m_dep  mobile_wt  n_cores  pc  px_height  px_width   ram  sc_h  sc_w  \\\n",
              "0       0.6        188        2   2         20       756  2549     9     7   \n",
              "1       0.7        136        3   6        905      1988  2631    17     3   \n",
              "2       0.9        145        5   6       1263      1716  2603    11     2   \n",
              "3       0.8        131        6   9       1216      1786  2769    16     8   \n",
              "4       0.6        141        2  14       1208      1212  1411     8     2   \n",
              "...     ...        ...      ...  ..        ...       ...   ...   ...   ...   \n",
              "1995    0.8        106        6  14       1222      1890   668    13     4   \n",
              "1996    0.2        187        4   3        915      1965  2032    11    10   \n",
              "1997    0.7        108        8   3        868      1632  3057     9     1   \n",
              "1998    0.1        145        5   5        336       670   869    18    10   \n",
              "1999    0.9        168        6  16        483       754  3919    19     4   \n",
              "\n",
              "      talk_time  three_g  touch_screen  wifi  \n",
              "0            19        0             0     1  \n",
              "1             7        1             1     0  \n",
              "2             9        1             1     0  \n",
              "3            11        1             0     0  \n",
              "4            15        1             1     0  \n",
              "...         ...      ...           ...   ...  \n",
              "1995         19        1             1     0  \n",
              "1996         16        1             1     1  \n",
              "1997          5        1             1     0  \n",
              "1998         19        1             1     1  \n",
              "1999          2        1             1     1  \n",
              "\n",
              "[2000 rows x 20 columns]"
            ],
            "text/html": [
              "\n",
              "  <div id=\"df-be0df8c8-0aba-4fb2-829d-34f245e2d21b\">\n",
              "    <div class=\"colab-df-container\">\n",
              "      <div>\n",
              "<style scoped>\n",
              "    .dataframe tbody tr th:only-of-type {\n",
              "        vertical-align: middle;\n",
              "    }\n",
              "\n",
              "    .dataframe tbody tr th {\n",
              "        vertical-align: top;\n",
              "    }\n",
              "\n",
              "    .dataframe thead th {\n",
              "        text-align: right;\n",
              "    }\n",
              "</style>\n",
              "<table border=\"1\" class=\"dataframe\">\n",
              "  <thead>\n",
              "    <tr style=\"text-align: right;\">\n",
              "      <th></th>\n",
              "      <th>battery_power</th>\n",
              "      <th>blue</th>\n",
              "      <th>clock_speed</th>\n",
              "      <th>dual_sim</th>\n",
              "      <th>fc</th>\n",
              "      <th>four_g</th>\n",
              "      <th>int_memory</th>\n",
              "      <th>m_dep</th>\n",
              "      <th>mobile_wt</th>\n",
              "      <th>n_cores</th>\n",
              "      <th>pc</th>\n",
              "      <th>px_height</th>\n",
              "      <th>px_width</th>\n",
              "      <th>ram</th>\n",
              "      <th>sc_h</th>\n",
              "      <th>sc_w</th>\n",
              "      <th>talk_time</th>\n",
              "      <th>three_g</th>\n",
              "      <th>touch_screen</th>\n",
              "      <th>wifi</th>\n",
              "    </tr>\n",
              "  </thead>\n",
              "  <tbody>\n",
              "    <tr>\n",
              "      <th>0</th>\n",
              "      <td>842</td>\n",
              "      <td>0</td>\n",
              "      <td>2.2</td>\n",
              "      <td>0</td>\n",
              "      <td>1</td>\n",
              "      <td>0</td>\n",
              "      <td>7</td>\n",
              "      <td>0.6</td>\n",
              "      <td>188</td>\n",
              "      <td>2</td>\n",
              "      <td>2</td>\n",
              "      <td>20</td>\n",
              "      <td>756</td>\n",
              "      <td>2549</td>\n",
              "      <td>9</td>\n",
              "      <td>7</td>\n",
              "      <td>19</td>\n",
              "      <td>0</td>\n",
              "      <td>0</td>\n",
              "      <td>1</td>\n",
              "    </tr>\n",
              "    <tr>\n",
              "      <th>1</th>\n",
              "      <td>1021</td>\n",
              "      <td>1</td>\n",
              "      <td>0.5</td>\n",
              "      <td>1</td>\n",
              "      <td>0</td>\n",
              "      <td>1</td>\n",
              "      <td>53</td>\n",
              "      <td>0.7</td>\n",
              "      <td>136</td>\n",
              "      <td>3</td>\n",
              "      <td>6</td>\n",
              "      <td>905</td>\n",
              "      <td>1988</td>\n",
              "      <td>2631</td>\n",
              "      <td>17</td>\n",
              "      <td>3</td>\n",
              "      <td>7</td>\n",
              "      <td>1</td>\n",
              "      <td>1</td>\n",
              "      <td>0</td>\n",
              "    </tr>\n",
              "    <tr>\n",
              "      <th>2</th>\n",
              "      <td>563</td>\n",
              "      <td>1</td>\n",
              "      <td>0.5</td>\n",
              "      <td>1</td>\n",
              "      <td>2</td>\n",
              "      <td>1</td>\n",
              "      <td>41</td>\n",
              "      <td>0.9</td>\n",
              "      <td>145</td>\n",
              "      <td>5</td>\n",
              "      <td>6</td>\n",
              "      <td>1263</td>\n",
              "      <td>1716</td>\n",
              "      <td>2603</td>\n",
              "      <td>11</td>\n",
              "      <td>2</td>\n",
              "      <td>9</td>\n",
              "      <td>1</td>\n",
              "      <td>1</td>\n",
              "      <td>0</td>\n",
              "    </tr>\n",
              "    <tr>\n",
              "      <th>3</th>\n",
              "      <td>615</td>\n",
              "      <td>1</td>\n",
              "      <td>2.5</td>\n",
              "      <td>0</td>\n",
              "      <td>0</td>\n",
              "      <td>0</td>\n",
              "      <td>10</td>\n",
              "      <td>0.8</td>\n",
              "      <td>131</td>\n",
              "      <td>6</td>\n",
              "      <td>9</td>\n",
              "      <td>1216</td>\n",
              "      <td>1786</td>\n",
              "      <td>2769</td>\n",
              "      <td>16</td>\n",
              "      <td>8</td>\n",
              "      <td>11</td>\n",
              "      <td>1</td>\n",
              "      <td>0</td>\n",
              "      <td>0</td>\n",
              "    </tr>\n",
              "    <tr>\n",
              "      <th>4</th>\n",
              "      <td>1821</td>\n",
              "      <td>1</td>\n",
              "      <td>1.2</td>\n",
              "      <td>0</td>\n",
              "      <td>13</td>\n",
              "      <td>1</td>\n",
              "      <td>44</td>\n",
              "      <td>0.6</td>\n",
              "      <td>141</td>\n",
              "      <td>2</td>\n",
              "      <td>14</td>\n",
              "      <td>1208</td>\n",
              "      <td>1212</td>\n",
              "      <td>1411</td>\n",
              "      <td>8</td>\n",
              "      <td>2</td>\n",
              "      <td>15</td>\n",
              "      <td>1</td>\n",
              "      <td>1</td>\n",
              "      <td>0</td>\n",
              "    </tr>\n",
              "    <tr>\n",
              "      <th>...</th>\n",
              "      <td>...</td>\n",
              "      <td>...</td>\n",
              "      <td>...</td>\n",
              "      <td>...</td>\n",
              "      <td>...</td>\n",
              "      <td>...</td>\n",
              "      <td>...</td>\n",
              "      <td>...</td>\n",
              "      <td>...</td>\n",
              "      <td>...</td>\n",
              "      <td>...</td>\n",
              "      <td>...</td>\n",
              "      <td>...</td>\n",
              "      <td>...</td>\n",
              "      <td>...</td>\n",
              "      <td>...</td>\n",
              "      <td>...</td>\n",
              "      <td>...</td>\n",
              "      <td>...</td>\n",
              "      <td>...</td>\n",
              "    </tr>\n",
              "    <tr>\n",
              "      <th>1995</th>\n",
              "      <td>794</td>\n",
              "      <td>1</td>\n",
              "      <td>0.5</td>\n",
              "      <td>1</td>\n",
              "      <td>0</td>\n",
              "      <td>1</td>\n",
              "      <td>2</td>\n",
              "      <td>0.8</td>\n",
              "      <td>106</td>\n",
              "      <td>6</td>\n",
              "      <td>14</td>\n",
              "      <td>1222</td>\n",
              "      <td>1890</td>\n",
              "      <td>668</td>\n",
              "      <td>13</td>\n",
              "      <td>4</td>\n",
              "      <td>19</td>\n",
              "      <td>1</td>\n",
              "      <td>1</td>\n",
              "      <td>0</td>\n",
              "    </tr>\n",
              "    <tr>\n",
              "      <th>1996</th>\n",
              "      <td>1965</td>\n",
              "      <td>1</td>\n",
              "      <td>2.6</td>\n",
              "      <td>1</td>\n",
              "      <td>0</td>\n",
              "      <td>0</td>\n",
              "      <td>39</td>\n",
              "      <td>0.2</td>\n",
              "      <td>187</td>\n",
              "      <td>4</td>\n",
              "      <td>3</td>\n",
              "      <td>915</td>\n",
              "      <td>1965</td>\n",
              "      <td>2032</td>\n",
              "      <td>11</td>\n",
              "      <td>10</td>\n",
              "      <td>16</td>\n",
              "      <td>1</td>\n",
              "      <td>1</td>\n",
              "      <td>1</td>\n",
              "    </tr>\n",
              "    <tr>\n",
              "      <th>1997</th>\n",
              "      <td>1911</td>\n",
              "      <td>0</td>\n",
              "      <td>0.9</td>\n",
              "      <td>1</td>\n",
              "      <td>1</td>\n",
              "      <td>1</td>\n",
              "      <td>36</td>\n",
              "      <td>0.7</td>\n",
              "      <td>108</td>\n",
              "      <td>8</td>\n",
              "      <td>3</td>\n",
              "      <td>868</td>\n",
              "      <td>1632</td>\n",
              "      <td>3057</td>\n",
              "      <td>9</td>\n",
              "      <td>1</td>\n",
              "      <td>5</td>\n",
              "      <td>1</td>\n",
              "      <td>1</td>\n",
              "      <td>0</td>\n",
              "    </tr>\n",
              "    <tr>\n",
              "      <th>1998</th>\n",
              "      <td>1512</td>\n",
              "      <td>0</td>\n",
              "      <td>0.9</td>\n",
              "      <td>0</td>\n",
              "      <td>4</td>\n",
              "      <td>1</td>\n",
              "      <td>46</td>\n",
              "      <td>0.1</td>\n",
              "      <td>145</td>\n",
              "      <td>5</td>\n",
              "      <td>5</td>\n",
              "      <td>336</td>\n",
              "      <td>670</td>\n",
              "      <td>869</td>\n",
              "      <td>18</td>\n",
              "      <td>10</td>\n",
              "      <td>19</td>\n",
              "      <td>1</td>\n",
              "      <td>1</td>\n",
              "      <td>1</td>\n",
              "    </tr>\n",
              "    <tr>\n",
              "      <th>1999</th>\n",
              "      <td>510</td>\n",
              "      <td>1</td>\n",
              "      <td>2.0</td>\n",
              "      <td>1</td>\n",
              "      <td>5</td>\n",
              "      <td>1</td>\n",
              "      <td>45</td>\n",
              "      <td>0.9</td>\n",
              "      <td>168</td>\n",
              "      <td>6</td>\n",
              "      <td>16</td>\n",
              "      <td>483</td>\n",
              "      <td>754</td>\n",
              "      <td>3919</td>\n",
              "      <td>19</td>\n",
              "      <td>4</td>\n",
              "      <td>2</td>\n",
              "      <td>1</td>\n",
              "      <td>1</td>\n",
              "      <td>1</td>\n",
              "    </tr>\n",
              "  </tbody>\n",
              "</table>\n",
              "<p>2000 rows × 20 columns</p>\n",
              "</div>\n",
              "      <button class=\"colab-df-convert\" onclick=\"convertToInteractive('df-be0df8c8-0aba-4fb2-829d-34f245e2d21b')\"\n",
              "              title=\"Convert this dataframe to an interactive table.\"\n",
              "              style=\"display:none;\">\n",
              "        \n",
              "  <svg xmlns=\"http://www.w3.org/2000/svg\" height=\"24px\"viewBox=\"0 0 24 24\"\n",
              "       width=\"24px\">\n",
              "    <path d=\"M0 0h24v24H0V0z\" fill=\"none\"/>\n",
              "    <path d=\"M18.56 5.44l.94 2.06.94-2.06 2.06-.94-2.06-.94-.94-2.06-.94 2.06-2.06.94zm-11 1L8.5 8.5l.94-2.06 2.06-.94-2.06-.94L8.5 2.5l-.94 2.06-2.06.94zm10 10l.94 2.06.94-2.06 2.06-.94-2.06-.94-.94-2.06-.94 2.06-2.06.94z\"/><path d=\"M17.41 7.96l-1.37-1.37c-.4-.4-.92-.59-1.43-.59-.52 0-1.04.2-1.43.59L10.3 9.45l-7.72 7.72c-.78.78-.78 2.05 0 2.83L4 21.41c.39.39.9.59 1.41.59.51 0 1.02-.2 1.41-.59l7.78-7.78 2.81-2.81c.8-.78.8-2.07 0-2.86zM5.41 20L4 18.59l7.72-7.72 1.47 1.35L5.41 20z\"/>\n",
              "  </svg>\n",
              "      </button>\n",
              "      \n",
              "  <style>\n",
              "    .colab-df-container {\n",
              "      display:flex;\n",
              "      flex-wrap:wrap;\n",
              "      gap: 12px;\n",
              "    }\n",
              "\n",
              "    .colab-df-convert {\n",
              "      background-color: #E8F0FE;\n",
              "      border: none;\n",
              "      border-radius: 50%;\n",
              "      cursor: pointer;\n",
              "      display: none;\n",
              "      fill: #1967D2;\n",
              "      height: 32px;\n",
              "      padding: 0 0 0 0;\n",
              "      width: 32px;\n",
              "    }\n",
              "\n",
              "    .colab-df-convert:hover {\n",
              "      background-color: #E2EBFA;\n",
              "      box-shadow: 0px 1px 2px rgba(60, 64, 67, 0.3), 0px 1px 3px 1px rgba(60, 64, 67, 0.15);\n",
              "      fill: #174EA6;\n",
              "    }\n",
              "\n",
              "    [theme=dark] .colab-df-convert {\n",
              "      background-color: #3B4455;\n",
              "      fill: #D2E3FC;\n",
              "    }\n",
              "\n",
              "    [theme=dark] .colab-df-convert:hover {\n",
              "      background-color: #434B5C;\n",
              "      box-shadow: 0px 1px 3px 1px rgba(0, 0, 0, 0.15);\n",
              "      filter: drop-shadow(0px 1px 2px rgba(0, 0, 0, 0.3));\n",
              "      fill: #FFFFFF;\n",
              "    }\n",
              "  </style>\n",
              "\n",
              "      <script>\n",
              "        const buttonEl =\n",
              "          document.querySelector('#df-be0df8c8-0aba-4fb2-829d-34f245e2d21b button.colab-df-convert');\n",
              "        buttonEl.style.display =\n",
              "          google.colab.kernel.accessAllowed ? 'block' : 'none';\n",
              "\n",
              "        async function convertToInteractive(key) {\n",
              "          const element = document.querySelector('#df-be0df8c8-0aba-4fb2-829d-34f245e2d21b');\n",
              "          const dataTable =\n",
              "            await google.colab.kernel.invokeFunction('convertToInteractive',\n",
              "                                                     [key], {});\n",
              "          if (!dataTable) return;\n",
              "\n",
              "          const docLinkHtml = 'Like what you see? Visit the ' +\n",
              "            '<a target=\"_blank\" href=https://colab.research.google.com/notebooks/data_table.ipynb>data table notebook</a>'\n",
              "            + ' to learn more about interactive tables.';\n",
              "          element.innerHTML = '';\n",
              "          dataTable['output_type'] = 'display_data';\n",
              "          await google.colab.output.renderOutput(dataTable, element);\n",
              "          const docLink = document.createElement('div');\n",
              "          docLink.innerHTML = docLinkHtml;\n",
              "          element.appendChild(docLink);\n",
              "        }\n",
              "      </script>\n",
              "    </div>\n",
              "  </div>\n",
              "  "
            ]
          },
          "metadata": {},
          "execution_count": 200
        }
      ]
    },
    {
      "cell_type": "markdown",
      "source": [
        "Above we can see the features (or inputs) without the targets."
      ],
      "metadata": {
        "id": "fwtGR5YS1pAP"
      }
    },
    {
      "cell_type": "markdown",
      "source": [
        "## Split Test and Train Data"
      ],
      "metadata": {
        "id": "m6czmFo3867I"
      }
    },
    {
      "cell_type": "markdown",
      "source": [
        "> Then the data is split to testing and training data, with 20% for testing and 80% for training.\n",
        "\n"
      ],
      "metadata": {
        "id": "IZrp5Sg45hRY"
      }
    },
    {
      "cell_type": "code",
      "source": [
        "X1_train, X1_test, y1_train, y1_test = train_test_split(X1,y1,test_size=0.20, random_state=42)  #Splitting the data into 80% training and 20% testing"
      ],
      "metadata": {
        "id": "aMyaf7LrumH9"
      },
      "execution_count": 201,
      "outputs": []
    },
    {
      "cell_type": "markdown",
      "source": [
        "We can check the dimensions of the test train split to ensure that the split was successful. Here 80% of 2000 data should be 1600 for training and 400 for testing."
      ],
      "metadata": {
        "id": "yTvSIPzN5uti"
      }
    },
    {
      "cell_type": "code",
      "source": [
        "print(\"X1_train:\", X1_train.shape)\n",
        "print(\"X1_test:\", X1_test.shape)\n",
        "print(\"y1_train:\", y1_train.shape)\n",
        "print(\"y1_test:\", y1_test.shape)"
      ],
      "metadata": {
        "colab": {
          "base_uri": "https://localhost:8080/"
        },
        "id": "QhjrIMYiu3fe",
        "outputId": "96af837f-b8c0-47c2-b9ef-d0f934aa6107"
      },
      "execution_count": 202,
      "outputs": [
        {
          "output_type": "stream",
          "name": "stdout",
          "text": [
            "X1_train: (1600, 20)\n",
            "X1_test: (400, 20)\n",
            "y1_train: (1600,)\n",
            "y1_test: (400,)\n"
          ]
        }
      ]
    },
    {
      "cell_type": "markdown",
      "source": [
        "## Building the KNN model"
      ],
      "metadata": {
        "id": "1fYwq8p49C07"
      }
    },
    {
      "cell_type": "markdown",
      "metadata": {
        "id": "0gaPrySEWX5s"
      },
      "source": [
        "Since we are trying to classify the data into a price range, this is a classification problem, not a regression problem. Hence we pick a Classifier to classify our data to price ranges 0,1,2 or 3. Here we will be using K nearest neighbor classifier."
      ]
    },
    {
      "cell_type": "code",
      "execution_count": 203,
      "metadata": {
        "id": "gEx92DaNWX5t",
        "colab": {
          "base_uri": "https://localhost:8080/"
        },
        "outputId": "ac73c638-9ece-428a-ecb9-d0ee51c1a296"
      },
      "outputs": [
        {
          "output_type": "execute_result",
          "data": {
            "text/plain": [
              "KNeighborsClassifier(n_neighbors=4)"
            ]
          },
          "metadata": {},
          "execution_count": 203
        }
      ],
      "source": [
        "from sklearn.neighbors import KNeighborsClassifier   #This is to import the classifier class from scikit learn package\n",
        "\n",
        "knc = KNeighborsClassifier(n_neighbors=4)      #Creates a classifier object\n",
        "\n",
        "knc.fit(X1_train, y1_train)           #Launch the training process"
      ]
    },
    {
      "cell_type": "markdown",
      "source": [
        "## Training the Model"
      ],
      "metadata": {
        "id": "_rZn0UcfFErh"
      }
    },
    {
      "cell_type": "markdown",
      "metadata": {
        "id": "AZlDMsynWX5u"
      },
      "source": [
        "Here the training process is launched above."
      ]
    },
    {
      "cell_type": "code",
      "source": [
        "knc.score(X1_train, y1_train)     #Evaluate Performance of training set"
      ],
      "metadata": {
        "colab": {
          "base_uri": "https://localhost:8080/"
        },
        "id": "ma05mpKw8_yS",
        "outputId": "f4b36f2c-fe2c-43ef-ebb0-26db140887d0"
      },
      "execution_count": 204,
      "outputs": [
        {
          "output_type": "execute_result",
          "data": {
            "text/plain": [
              "0.9475"
            ]
          },
          "metadata": {},
          "execution_count": 204
        }
      ]
    },
    {
      "cell_type": "markdown",
      "source": [
        "## Evaluate Model"
      ],
      "metadata": {
        "id": "WsPw36ytFNYw"
      }
    },
    {
      "cell_type": "code",
      "source": [
        "knc.score(X1_test, y1_test)       #Evaluate Performance of testing set"
      ],
      "metadata": {
        "colab": {
          "base_uri": "https://localhost:8080/"
        },
        "id": "HmGssD6B9QZH",
        "outputId": "08a8b1b6-2292-4761-d811-017a3df21745"
      },
      "execution_count": 205,
      "outputs": [
        {
          "output_type": "execute_result",
          "data": {
            "text/plain": [
              "0.93"
            ]
          },
          "metadata": {},
          "execution_count": 205
        }
      ]
    },
    {
      "cell_type": "code",
      "source": [
        "df[\"price_range_prediction\"] = knc.predict(X1)   #Create a column for predicted values\n",
        "df.sample(10 , random_state = 42)         #Random samples generated to test the model"
      ],
      "metadata": {
        "colab": {
          "base_uri": "https://localhost:8080/",
          "height": 456
        },
        "id": "c4Z1JvSR_cw8",
        "outputId": "889bce24-9012-4207-abdf-9a40be3f5c8d"
      },
      "execution_count": 206,
      "outputs": [
        {
          "output_type": "execute_result",
          "data": {
            "text/plain": [
              "      battery_power  blue  clock_speed  dual_sim  fc  four_g  int_memory  \\\n",
              "1860           1646     0          2.5         0   3       1          25   \n",
              "353            1182     0          0.5         0   7       1           8   \n",
              "1333           1972     0          2.9         0   9       0          14   \n",
              "905             989     1          2.0         0   4       0          17   \n",
              "1289            615     1          0.5         1   7       0          58   \n",
              "1273            627     1          1.6         1   3       1          12   \n",
              "938             894     0          0.9         0   5       1          54   \n",
              "1731           1066     0          3.0         1   6       1           5   \n",
              "65              616     0          1.9         1  13       1          44   \n",
              "1323            712     0          0.5         0   6       0          27   \n",
              "\n",
              "      m_dep  mobile_wt  n_cores  ...  px_width   ram  sc_h  sc_w  talk_time  \\\n",
              "1860    0.6        200        2  ...      1608   686     8     6         11   \n",
              "353     0.5        138        8  ...       986  2563    19    17         19   \n",
              "1333    0.4        196        7  ...       952  1316     8     1          8   \n",
              "905     0.2        166        3  ...      1394  3892    18     7         19   \n",
              "1289    0.5        130        5  ...      1958  1906    14     5          5   \n",
              "1273    0.2        131        7  ...       819  2476    17     1         10   \n",
              "938     0.2        130        3  ...       541  2829    11     5         13   \n",
              "1731    0.5        167        5  ...      1504  1044     8     7         11   \n",
              "65      0.8         81        3  ...      1618  3366    18     8         13   \n",
              "1323    0.5         86        2  ...      1309  2001    11    10         12   \n",
              "\n",
              "      three_g  touch_screen  wifi  price_range  price_range_prediction  \n",
              "1860        1             1     0            0                       0  \n",
              "353         1             0     0            2                       2  \n",
              "1333        1             1     0            1                       1  \n",
              "905         1             1     0            3                       3  \n",
              "1289        1             0     0            1                       1  \n",
              "1273        1             0     0            1                       1  \n",
              "938         1             0     1            2                       2  \n",
              "1731        1             0     0            0                       0  \n",
              "65          1             1     0            3                       3  \n",
              "1323        1             1     1            1                       1  \n",
              "\n",
              "[10 rows x 22 columns]"
            ],
            "text/html": [
              "\n",
              "  <div id=\"df-e814bba3-a97b-4c64-99ee-9cee0cb095c4\">\n",
              "    <div class=\"colab-df-container\">\n",
              "      <div>\n",
              "<style scoped>\n",
              "    .dataframe tbody tr th:only-of-type {\n",
              "        vertical-align: middle;\n",
              "    }\n",
              "\n",
              "    .dataframe tbody tr th {\n",
              "        vertical-align: top;\n",
              "    }\n",
              "\n",
              "    .dataframe thead th {\n",
              "        text-align: right;\n",
              "    }\n",
              "</style>\n",
              "<table border=\"1\" class=\"dataframe\">\n",
              "  <thead>\n",
              "    <tr style=\"text-align: right;\">\n",
              "      <th></th>\n",
              "      <th>battery_power</th>\n",
              "      <th>blue</th>\n",
              "      <th>clock_speed</th>\n",
              "      <th>dual_sim</th>\n",
              "      <th>fc</th>\n",
              "      <th>four_g</th>\n",
              "      <th>int_memory</th>\n",
              "      <th>m_dep</th>\n",
              "      <th>mobile_wt</th>\n",
              "      <th>n_cores</th>\n",
              "      <th>...</th>\n",
              "      <th>px_width</th>\n",
              "      <th>ram</th>\n",
              "      <th>sc_h</th>\n",
              "      <th>sc_w</th>\n",
              "      <th>talk_time</th>\n",
              "      <th>three_g</th>\n",
              "      <th>touch_screen</th>\n",
              "      <th>wifi</th>\n",
              "      <th>price_range</th>\n",
              "      <th>price_range_prediction</th>\n",
              "    </tr>\n",
              "  </thead>\n",
              "  <tbody>\n",
              "    <tr>\n",
              "      <th>1860</th>\n",
              "      <td>1646</td>\n",
              "      <td>0</td>\n",
              "      <td>2.5</td>\n",
              "      <td>0</td>\n",
              "      <td>3</td>\n",
              "      <td>1</td>\n",
              "      <td>25</td>\n",
              "      <td>0.6</td>\n",
              "      <td>200</td>\n",
              "      <td>2</td>\n",
              "      <td>...</td>\n",
              "      <td>1608</td>\n",
              "      <td>686</td>\n",
              "      <td>8</td>\n",
              "      <td>6</td>\n",
              "      <td>11</td>\n",
              "      <td>1</td>\n",
              "      <td>1</td>\n",
              "      <td>0</td>\n",
              "      <td>0</td>\n",
              "      <td>0</td>\n",
              "    </tr>\n",
              "    <tr>\n",
              "      <th>353</th>\n",
              "      <td>1182</td>\n",
              "      <td>0</td>\n",
              "      <td>0.5</td>\n",
              "      <td>0</td>\n",
              "      <td>7</td>\n",
              "      <td>1</td>\n",
              "      <td>8</td>\n",
              "      <td>0.5</td>\n",
              "      <td>138</td>\n",
              "      <td>8</td>\n",
              "      <td>...</td>\n",
              "      <td>986</td>\n",
              "      <td>2563</td>\n",
              "      <td>19</td>\n",
              "      <td>17</td>\n",
              "      <td>19</td>\n",
              "      <td>1</td>\n",
              "      <td>0</td>\n",
              "      <td>0</td>\n",
              "      <td>2</td>\n",
              "      <td>2</td>\n",
              "    </tr>\n",
              "    <tr>\n",
              "      <th>1333</th>\n",
              "      <td>1972</td>\n",
              "      <td>0</td>\n",
              "      <td>2.9</td>\n",
              "      <td>0</td>\n",
              "      <td>9</td>\n",
              "      <td>0</td>\n",
              "      <td>14</td>\n",
              "      <td>0.4</td>\n",
              "      <td>196</td>\n",
              "      <td>7</td>\n",
              "      <td>...</td>\n",
              "      <td>952</td>\n",
              "      <td>1316</td>\n",
              "      <td>8</td>\n",
              "      <td>1</td>\n",
              "      <td>8</td>\n",
              "      <td>1</td>\n",
              "      <td>1</td>\n",
              "      <td>0</td>\n",
              "      <td>1</td>\n",
              "      <td>1</td>\n",
              "    </tr>\n",
              "    <tr>\n",
              "      <th>905</th>\n",
              "      <td>989</td>\n",
              "      <td>1</td>\n",
              "      <td>2.0</td>\n",
              "      <td>0</td>\n",
              "      <td>4</td>\n",
              "      <td>0</td>\n",
              "      <td>17</td>\n",
              "      <td>0.2</td>\n",
              "      <td>166</td>\n",
              "      <td>3</td>\n",
              "      <td>...</td>\n",
              "      <td>1394</td>\n",
              "      <td>3892</td>\n",
              "      <td>18</td>\n",
              "      <td>7</td>\n",
              "      <td>19</td>\n",
              "      <td>1</td>\n",
              "      <td>1</td>\n",
              "      <td>0</td>\n",
              "      <td>3</td>\n",
              "      <td>3</td>\n",
              "    </tr>\n",
              "    <tr>\n",
              "      <th>1289</th>\n",
              "      <td>615</td>\n",
              "      <td>1</td>\n",
              "      <td>0.5</td>\n",
              "      <td>1</td>\n",
              "      <td>7</td>\n",
              "      <td>0</td>\n",
              "      <td>58</td>\n",
              "      <td>0.5</td>\n",
              "      <td>130</td>\n",
              "      <td>5</td>\n",
              "      <td>...</td>\n",
              "      <td>1958</td>\n",
              "      <td>1906</td>\n",
              "      <td>14</td>\n",
              "      <td>5</td>\n",
              "      <td>5</td>\n",
              "      <td>1</td>\n",
              "      <td>0</td>\n",
              "      <td>0</td>\n",
              "      <td>1</td>\n",
              "      <td>1</td>\n",
              "    </tr>\n",
              "    <tr>\n",
              "      <th>1273</th>\n",
              "      <td>627</td>\n",
              "      <td>1</td>\n",
              "      <td>1.6</td>\n",
              "      <td>1</td>\n",
              "      <td>3</td>\n",
              "      <td>1</td>\n",
              "      <td>12</td>\n",
              "      <td>0.2</td>\n",
              "      <td>131</td>\n",
              "      <td>7</td>\n",
              "      <td>...</td>\n",
              "      <td>819</td>\n",
              "      <td>2476</td>\n",
              "      <td>17</td>\n",
              "      <td>1</td>\n",
              "      <td>10</td>\n",
              "      <td>1</td>\n",
              "      <td>0</td>\n",
              "      <td>0</td>\n",
              "      <td>1</td>\n",
              "      <td>1</td>\n",
              "    </tr>\n",
              "    <tr>\n",
              "      <th>938</th>\n",
              "      <td>894</td>\n",
              "      <td>0</td>\n",
              "      <td>0.9</td>\n",
              "      <td>0</td>\n",
              "      <td>5</td>\n",
              "      <td>1</td>\n",
              "      <td>54</td>\n",
              "      <td>0.2</td>\n",
              "      <td>130</td>\n",
              "      <td>3</td>\n",
              "      <td>...</td>\n",
              "      <td>541</td>\n",
              "      <td>2829</td>\n",
              "      <td>11</td>\n",
              "      <td>5</td>\n",
              "      <td>13</td>\n",
              "      <td>1</td>\n",
              "      <td>0</td>\n",
              "      <td>1</td>\n",
              "      <td>2</td>\n",
              "      <td>2</td>\n",
              "    </tr>\n",
              "    <tr>\n",
              "      <th>1731</th>\n",
              "      <td>1066</td>\n",
              "      <td>0</td>\n",
              "      <td>3.0</td>\n",
              "      <td>1</td>\n",
              "      <td>6</td>\n",
              "      <td>1</td>\n",
              "      <td>5</td>\n",
              "      <td>0.5</td>\n",
              "      <td>167</td>\n",
              "      <td>5</td>\n",
              "      <td>...</td>\n",
              "      <td>1504</td>\n",
              "      <td>1044</td>\n",
              "      <td>8</td>\n",
              "      <td>7</td>\n",
              "      <td>11</td>\n",
              "      <td>1</td>\n",
              "      <td>0</td>\n",
              "      <td>0</td>\n",
              "      <td>0</td>\n",
              "      <td>0</td>\n",
              "    </tr>\n",
              "    <tr>\n",
              "      <th>65</th>\n",
              "      <td>616</td>\n",
              "      <td>0</td>\n",
              "      <td>1.9</td>\n",
              "      <td>1</td>\n",
              "      <td>13</td>\n",
              "      <td>1</td>\n",
              "      <td>44</td>\n",
              "      <td>0.8</td>\n",
              "      <td>81</td>\n",
              "      <td>3</td>\n",
              "      <td>...</td>\n",
              "      <td>1618</td>\n",
              "      <td>3366</td>\n",
              "      <td>18</td>\n",
              "      <td>8</td>\n",
              "      <td>13</td>\n",
              "      <td>1</td>\n",
              "      <td>1</td>\n",
              "      <td>0</td>\n",
              "      <td>3</td>\n",
              "      <td>3</td>\n",
              "    </tr>\n",
              "    <tr>\n",
              "      <th>1323</th>\n",
              "      <td>712</td>\n",
              "      <td>0</td>\n",
              "      <td>0.5</td>\n",
              "      <td>0</td>\n",
              "      <td>6</td>\n",
              "      <td>0</td>\n",
              "      <td>27</td>\n",
              "      <td>0.5</td>\n",
              "      <td>86</td>\n",
              "      <td>2</td>\n",
              "      <td>...</td>\n",
              "      <td>1309</td>\n",
              "      <td>2001</td>\n",
              "      <td>11</td>\n",
              "      <td>10</td>\n",
              "      <td>12</td>\n",
              "      <td>1</td>\n",
              "      <td>1</td>\n",
              "      <td>1</td>\n",
              "      <td>1</td>\n",
              "      <td>1</td>\n",
              "    </tr>\n",
              "  </tbody>\n",
              "</table>\n",
              "<p>10 rows × 22 columns</p>\n",
              "</div>\n",
              "      <button class=\"colab-df-convert\" onclick=\"convertToInteractive('df-e814bba3-a97b-4c64-99ee-9cee0cb095c4')\"\n",
              "              title=\"Convert this dataframe to an interactive table.\"\n",
              "              style=\"display:none;\">\n",
              "        \n",
              "  <svg xmlns=\"http://www.w3.org/2000/svg\" height=\"24px\"viewBox=\"0 0 24 24\"\n",
              "       width=\"24px\">\n",
              "    <path d=\"M0 0h24v24H0V0z\" fill=\"none\"/>\n",
              "    <path d=\"M18.56 5.44l.94 2.06.94-2.06 2.06-.94-2.06-.94-.94-2.06-.94 2.06-2.06.94zm-11 1L8.5 8.5l.94-2.06 2.06-.94-2.06-.94L8.5 2.5l-.94 2.06-2.06.94zm10 10l.94 2.06.94-2.06 2.06-.94-2.06-.94-.94-2.06-.94 2.06-2.06.94z\"/><path d=\"M17.41 7.96l-1.37-1.37c-.4-.4-.92-.59-1.43-.59-.52 0-1.04.2-1.43.59L10.3 9.45l-7.72 7.72c-.78.78-.78 2.05 0 2.83L4 21.41c.39.39.9.59 1.41.59.51 0 1.02-.2 1.41-.59l7.78-7.78 2.81-2.81c.8-.78.8-2.07 0-2.86zM5.41 20L4 18.59l7.72-7.72 1.47 1.35L5.41 20z\"/>\n",
              "  </svg>\n",
              "      </button>\n",
              "      \n",
              "  <style>\n",
              "    .colab-df-container {\n",
              "      display:flex;\n",
              "      flex-wrap:wrap;\n",
              "      gap: 12px;\n",
              "    }\n",
              "\n",
              "    .colab-df-convert {\n",
              "      background-color: #E8F0FE;\n",
              "      border: none;\n",
              "      border-radius: 50%;\n",
              "      cursor: pointer;\n",
              "      display: none;\n",
              "      fill: #1967D2;\n",
              "      height: 32px;\n",
              "      padding: 0 0 0 0;\n",
              "      width: 32px;\n",
              "    }\n",
              "\n",
              "    .colab-df-convert:hover {\n",
              "      background-color: #E2EBFA;\n",
              "      box-shadow: 0px 1px 2px rgba(60, 64, 67, 0.3), 0px 1px 3px 1px rgba(60, 64, 67, 0.15);\n",
              "      fill: #174EA6;\n",
              "    }\n",
              "\n",
              "    [theme=dark] .colab-df-convert {\n",
              "      background-color: #3B4455;\n",
              "      fill: #D2E3FC;\n",
              "    }\n",
              "\n",
              "    [theme=dark] .colab-df-convert:hover {\n",
              "      background-color: #434B5C;\n",
              "      box-shadow: 0px 1px 3px 1px rgba(0, 0, 0, 0.15);\n",
              "      filter: drop-shadow(0px 1px 2px rgba(0, 0, 0, 0.3));\n",
              "      fill: #FFFFFF;\n",
              "    }\n",
              "  </style>\n",
              "\n",
              "      <script>\n",
              "        const buttonEl =\n",
              "          document.querySelector('#df-e814bba3-a97b-4c64-99ee-9cee0cb095c4 button.colab-df-convert');\n",
              "        buttonEl.style.display =\n",
              "          google.colab.kernel.accessAllowed ? 'block' : 'none';\n",
              "\n",
              "        async function convertToInteractive(key) {\n",
              "          const element = document.querySelector('#df-e814bba3-a97b-4c64-99ee-9cee0cb095c4');\n",
              "          const dataTable =\n",
              "            await google.colab.kernel.invokeFunction('convertToInteractive',\n",
              "                                                     [key], {});\n",
              "          if (!dataTable) return;\n",
              "\n",
              "          const docLinkHtml = 'Like what you see? Visit the ' +\n",
              "            '<a target=\"_blank\" href=https://colab.research.google.com/notebooks/data_table.ipynb>data table notebook</a>'\n",
              "            + ' to learn more about interactive tables.';\n",
              "          element.innerHTML = '';\n",
              "          dataTable['output_type'] = 'display_data';\n",
              "          await google.colab.output.renderOutput(dataTable, element);\n",
              "          const docLink = document.createElement('div');\n",
              "          docLink.innerHTML = docLinkHtml;\n",
              "          element.appendChild(docLink);\n",
              "        }\n",
              "      </script>\n",
              "    </div>\n",
              "  </div>\n",
              "  "
            ]
          },
          "metadata": {},
          "execution_count": 206
        }
      ]
    },
    {
      "cell_type": "markdown",
      "source": [
        "Hence we can see an accuracy of 93% on the testing set, which shows us that the model is quite successful in its predictions."
      ],
      "metadata": {
        "id": "LR6gLjQC6FHi"
      }
    },
    {
      "cell_type": "markdown",
      "source": [
        "# Model 2 - Using Multilayered Neural network with Keras\n",
        "\n",
        "\n"
      ],
      "metadata": {
        "id": "XFnCYiTA5fbQ"
      }
    },
    {
      "cell_type": "markdown",
      "source": [
        "\n",
        "> First the pandas dataframe has to be changed to an array using numpy package. This allows to process the data better for neural networks.\n",
        "\n"
      ],
      "metadata": {
        "id": "02uCvdwZ0Ysn"
      }
    },
    {
      "cell_type": "code",
      "source": [
        "#Changing pandas dataframe to numpy array\n",
        "X = df.iloc[:,:20].values\n",
        "y = df.iloc[:,20:21].values"
      ],
      "metadata": {
        "id": "5ORETtSvncUA"
      },
      "execution_count": 207,
      "outputs": []
    },
    {
      "cell_type": "markdown",
      "source": [
        "Then the data has to be normalized.\n",
        "## Normalization\n",
        "\n",
        "Normalization is a technique used to bring values to a common scale without distorting the differences between the values. This improves accuracy a lot. In our data set, we can observe some values have a scale of 100s or 1000s while others are much smaller. Ex, Ram, pixel width, etc are very large values sometimes while clock speed is less than 10 usually."
      ],
      "metadata": {
        "id": "dh9fHLCY6yJ0"
      }
    },
    {
      "cell_type": "code",
      "source": [
        "#Normalizing the data\n",
        "from sklearn.preprocessing import StandardScaler\n",
        "scaler = StandardScaler()\n",
        "X = scaler.fit_transform(X)"
      ],
      "metadata": {
        "id": "kCVj7Gj0n1oq"
      },
      "execution_count": 208,
      "outputs": []
    },
    {
      "cell_type": "markdown",
      "source": [
        "## One Hot Encoding\n",
        "We use this technique to convert integer classes to binary values. Here since we have 4 classes (0 to 3), we can get their binary representation by using one hot encoder. We use a sklearn function for this."
      ],
      "metadata": {
        "id": "SbaJJ83R7pta"
      }
    },
    {
      "cell_type": "code",
      "source": [
        "from sklearn.preprocessing import OneHotEncoder\n",
        "encoder = OneHotEncoder()\n",
        "y = encoder.fit_transform(y).toarray()"
      ],
      "metadata": {
        "id": "QxpH22c0n3k7"
      },
      "execution_count": 209,
      "outputs": []
    },
    {
      "cell_type": "markdown",
      "source": [
        "## Splitting Test and Train Data"
      ],
      "metadata": {
        "id": "7YjBh1XI8WWD"
      }
    },
    {
      "cell_type": "markdown",
      "source": [
        "Here the data is split to 80% train and 20% test. And a random state is added to ensure that the splits generated are reproducible. Scikit-learn uses random permutations to generate the splits. The random state ensures that the random numbers are generated in the same order."
      ],
      "metadata": {
        "id": "HGtV0tPw33Gd"
      }
    },
    {
      "cell_type": "code",
      "source": [
        "X_train, X_test, y_train, y_test = train_test_split(X,y,test_size=0.20, random_state=42)  #Splitting the data into 80% training and 20% testing"
      ],
      "metadata": {
        "id": "6e5eKQFe2qQx"
      },
      "execution_count": 210,
      "outputs": []
    },
    {
      "cell_type": "markdown",
      "source": [
        "We can check the dimensions of the test train split to ensure that the split was successful. Here 80% of 2000 data should be 1600 for training and 400 for testing."
      ],
      "metadata": {
        "id": "gsM6kPLC8hvA"
      }
    },
    {
      "cell_type": "code",
      "source": [
        "print(\"X_train:\", X_train.shape)\n",
        "print(\"X_test:\", X_test.shape)\n",
        "print(\"y_train:\", y_train.shape)\n",
        "print(\"y_test:\", y_test.shape)"
      ],
      "metadata": {
        "colab": {
          "base_uri": "https://localhost:8080/"
        },
        "id": "hy9EQDXC4PqP",
        "outputId": "94009ada-8b15-45ac-e059-d0151fc71580"
      },
      "execution_count": 211,
      "outputs": [
        {
          "output_type": "stream",
          "name": "stdout",
          "text": [
            "X_train: (1600, 20)\n",
            "X_test: (400, 20)\n",
            "y_train: (1600, 4)\n",
            "y_test: (400, 4)\n"
          ]
        }
      ]
    },
    {
      "cell_type": "markdown",
      "source": [
        "\n",
        "80% of the data (2000 rows) is 1600 rows, hence we can see 1600 rows and 20 columns for the input train features and 400 rows and 20 columns for the input test features.\n",
        "\n",
        "For the targets, since we have only one column, the column number is not displayed. And we have 1600 targets for the training data and 400 for testing.\n"
      ],
      "metadata": {
        "id": "kbRi37Ms4t4W"
      }
    },
    {
      "cell_type": "markdown",
      "source": [
        "## Building the Artificial Neural Network using Keras"
      ],
      "metadata": {
        "id": "4QG8q9oN8q6T"
      }
    },
    {
      "cell_type": "markdown",
      "source": [
        "First we import some required functions from tensorflow."
      ],
      "metadata": {
        "id": "8XczQej79Joj"
      }
    },
    {
      "cell_type": "code",
      "source": [
        "from keras.models import Sequential                       # Model type to be used\n",
        "from keras.layers.core import Dense, Dropout, Activation # Types of layers to be used in our model\n",
        "from keras.utils import np_utils                         # NumPy related tools"
      ],
      "metadata": {
        "id": "oJnt2gTirGU2"
      },
      "execution_count": 212,
      "outputs": []
    },
    {
      "cell_type": "markdown",
      "source": [
        "### Model Architecture\n",
        "Then we start creating the model. Here we will go with an architecture of 2 Hidden layers. \n",
        "\n",
        "1.   Input Layer      - 20\n",
        "2.   1st Hidden Layer - 17 Neurons\n",
        "3.   2nd Hidden Layer - 14 Neurons\n",
        "4.   Output Layer     - 4 Neurons\n",
        "\n"
      ],
      "metadata": {
        "id": "osB1Npqf9RuE"
      }
    },
    {
      "cell_type": "markdown",
      "source": [
        "![nn__1_-removebg-preview.png](data:image/png;base64,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)"
      ],
      "metadata": {
        "id": "3PGEj-nB_1ya"
      }
    },
    {
      "cell_type": "markdown",
      "source": [
        "### Activation Functions"
      ],
      "metadata": {
        "id": "ixWVUwQGCAYZ"
      }
    },
    {
      "cell_type": "code",
      "source": [
        "model = Sequential()      #create an empty sequential model\n",
        "\n",
        "model.add(Dense(17, input_dim=20,  activation='relu'))\n",
        "model.add(Dense(14, activation='relu'))"
      ],
      "metadata": {
        "id": "xAq2PUpbujby"
      },
      "execution_count": 213,
      "outputs": []
    },
    {
      "cell_type": "markdown",
      "source": [
        "The activation function used for the hidden layers is ReLu function. Relu solves the gradient vanishing problem and stops the inactive neurons. Relu is also a faster activation function for most problems."
      ],
      "metadata": {
        "id": "W3XqYynhAbKB"
      }
    },
    {
      "cell_type": "code",
      "source": [
        "model.add(Dense(4))\n",
        "model.add(Activation('softmax'))"
      ],
      "metadata": {
        "id": "nhKePuOmvYzc"
      },
      "execution_count": 214,
      "outputs": []
    },
    {
      "cell_type": "markdown",
      "source": [
        "For the output layer, we use \"Softmax\" activation function instead of Relu as Softmax is more suited for multi-classification problems.Softmax gives the output probabilities range. For multi-classification models softmax returns the probabilities of each class and the target class will have high probability."
      ],
      "metadata": {
        "id": "EomS8vi5AqPX"
      }
    },
    {
      "cell_type": "code",
      "source": [
        "model.summary()"
      ],
      "metadata": {
        "colab": {
          "base_uri": "https://localhost:8080/"
        },
        "id": "d4YQRJX8vneO",
        "outputId": "3ef76a5b-d40b-4ea2-e4de-68abe30365d3"
      },
      "execution_count": 215,
      "outputs": [
        {
          "output_type": "stream",
          "name": "stdout",
          "text": [
            "Model: \"sequential_7\"\n",
            "_________________________________________________________________\n",
            " Layer (type)                Output Shape              Param #   \n",
            "=================================================================\n",
            " dense_21 (Dense)            (None, 17)                357       \n",
            "                                                                 \n",
            " dense_22 (Dense)            (None, 14)                252       \n",
            "                                                                 \n",
            " dense_23 (Dense)            (None, 4)                 60        \n",
            "                                                                 \n",
            " activation_7 (Activation)   (None, 4)                 0         \n",
            "                                                                 \n",
            "=================================================================\n",
            "Total params: 669\n",
            "Trainable params: 669\n",
            "Non-trainable params: 0\n",
            "_________________________________________________________________\n"
          ]
        }
      ]
    },
    {
      "cell_type": "markdown",
      "source": [
        "Above we can see a summary of the Model Architecture"
      ],
      "metadata": {
        "id": "5UKepFH2Bgcp"
      }
    },
    {
      "cell_type": "markdown",
      "source": [
        "### Optimizer and Loss function"
      ],
      "metadata": {
        "id": "WsQv4MJOCGtF"
      }
    },
    {
      "cell_type": "markdown",
      "source": [
        "\n",
        "\n",
        "1.   Optimizer - Adam\n",
        "Optimizers are algorithms or methods used to change the attributes of your neural network such as weights and learning rate in order to reduce the losses. The results of the Adam optimizer are generally better than every other optimization algorithms, have faster computation time, and require fewer parameters for tuning.\n",
        "\n",
        "2.   Loss Function - Categorical Cross Entropy\n",
        "A loss function compares the target and predicted output values; measures how well the neural network models the training data. Categorical cross-entropy is used when true labels are one-hot encoded,\n"
      ],
      "metadata": {
        "id": "EXRC-GU_CLTt"
      }
    },
    {
      "cell_type": "code",
      "source": [
        "from tensorflow.keras import optimizers, callbacks\n",
        "OPTIMIZER = optimizers.Adam(learning_rate = 0.001)\n",
        "model.compile(optimizer = OPTIMIZER, loss = 'categorical_crossentropy', metrics = ['accuracy'])\n"
      ],
      "metadata": {
        "id": "yoqBzPDt8gYt"
      },
      "execution_count": 216,
      "outputs": []
    },
    {
      "cell_type": "markdown",
      "source": [
        "### Regularization - Early Stopping\n",
        "Early Stopping is a regularization technique for deep neural networks that stops training when parameter updates no longer begin to yield improves on a validation set.\n",
        "\n",
        "Early stopping is implemented using Callbacks function. A callback is a function that is called repeatedly during a process (for example the training of a neural network) and which generally serves to validate or correct certain behaviors. In machine learning, we can use callbacks to define what happens before, during, or at the end of a training epoch."
      ],
      "metadata": {
        "id": "sGA_r5f1DkyH"
      }
    },
    {
      "cell_type": "code",
      "source": [
        "ES = callbacks.EarlyStopping(monitor='val_loss', min_delta = 0.001, verbose= VERBOSE, patience=10, mode = 'auto')"
      ],
      "metadata": {
        "id": "rck_CLONEIts"
      },
      "execution_count": 217,
      "outputs": []
    },
    {
      "cell_type": "markdown",
      "source": [
        "## Training the Model"
      ],
      "metadata": {
        "id": "Wsf5SEIjEKnn"
      }
    },
    {
      "cell_type": "markdown",
      "source": [
        "After trying different batch sizes, a high accurate one was picked.\n",
        "\n",
        "***Although a very high Epoch number is picked, due to Early stopping the model will stop training at the appropriate place.***"
      ],
      "metadata": {
        "id": "dRg7VuhEEYKD"
      }
    },
    {
      "cell_type": "code",
      "source": [
        "BATCH_SIZE = 64\n",
        "EPOCHS = 1000\n",
        "VERBOSE = 1\n",
        "\n",
        "model_history = model.fit(x= X_train, y= y_train, batch_size = BATCH_SIZE, epochs = EPOCHS, verbose = VERBOSE , validation_data = (X_test,y_test), callbacks = [ES])"
      ],
      "metadata": {
        "colab": {
          "base_uri": "https://localhost:8080/"
        },
        "id": "5oWzzLXiH6W1",
        "outputId": "3e479569-3cdb-4428-fde6-32c97a4c60c1"
      },
      "execution_count": 218,
      "outputs": [
        {
          "output_type": "stream",
          "name": "stdout",
          "text": [
            "Epoch 1/1000\n",
            "25/25 [==============================] - 1s 12ms/step - loss: 1.4795 - accuracy: 0.2444 - val_loss: 1.4506 - val_accuracy: 0.2450\n",
            "Epoch 2/1000\n",
            "25/25 [==============================] - 0s 5ms/step - loss: 1.3985 - accuracy: 0.2937 - val_loss: 1.3903 - val_accuracy: 0.2900\n",
            "Epoch 3/1000\n",
            "25/25 [==============================] - 0s 5ms/step - loss: 1.3466 - accuracy: 0.3531 - val_loss: 1.3430 - val_accuracy: 0.3375\n",
            "Epoch 4/1000\n",
            "25/25 [==============================] - 0s 5ms/step - loss: 1.2961 - accuracy: 0.3994 - val_loss: 1.2911 - val_accuracy: 0.3875\n",
            "Epoch 5/1000\n",
            "25/25 [==============================] - 0s 5ms/step - loss: 1.2450 - accuracy: 0.4425 - val_loss: 1.2355 - val_accuracy: 0.4525\n",
            "Epoch 6/1000\n",
            "25/25 [==============================] - 0s 5ms/step - loss: 1.1869 - accuracy: 0.4875 - val_loss: 1.1690 - val_accuracy: 0.4800\n",
            "Epoch 7/1000\n",
            "25/25 [==============================] - 0s 6ms/step - loss: 1.1205 - accuracy: 0.5356 - val_loss: 1.0978 - val_accuracy: 0.5250\n",
            "Epoch 8/1000\n",
            "25/25 [==============================] - 0s 6ms/step - loss: 1.0494 - accuracy: 0.5806 - val_loss: 1.0212 - val_accuracy: 0.5700\n",
            "Epoch 9/1000\n",
            "25/25 [==============================] - 0s 5ms/step - loss: 0.9746 - accuracy: 0.6094 - val_loss: 0.9432 - val_accuracy: 0.6150\n",
            "Epoch 10/1000\n",
            "25/25 [==============================] - 0s 5ms/step - loss: 0.8977 - accuracy: 0.6475 - val_loss: 0.8650 - val_accuracy: 0.6500\n",
            "Epoch 11/1000\n",
            "25/25 [==============================] - 0s 5ms/step - loss: 0.8234 - accuracy: 0.6881 - val_loss: 0.7925 - val_accuracy: 0.6925\n",
            "Epoch 12/1000\n",
            "25/25 [==============================] - 0s 5ms/step - loss: 0.7558 - accuracy: 0.7244 - val_loss: 0.7266 - val_accuracy: 0.7475\n",
            "Epoch 13/1000\n",
            "25/25 [==============================] - 0s 5ms/step - loss: 0.6949 - accuracy: 0.7500 - val_loss: 0.6681 - val_accuracy: 0.7750\n",
            "Epoch 14/1000\n",
            "25/25 [==============================] - 0s 5ms/step - loss: 0.6406 - accuracy: 0.7794 - val_loss: 0.6175 - val_accuracy: 0.7850\n",
            "Epoch 15/1000\n",
            "25/25 [==============================] - 0s 5ms/step - loss: 0.5908 - accuracy: 0.8006 - val_loss: 0.5722 - val_accuracy: 0.8100\n",
            "Epoch 16/1000\n",
            "25/25 [==============================] - 0s 6ms/step - loss: 0.5472 - accuracy: 0.8219 - val_loss: 0.5337 - val_accuracy: 0.8375\n",
            "Epoch 17/1000\n",
            "25/25 [==============================] - 0s 5ms/step - loss: 0.5083 - accuracy: 0.8413 - val_loss: 0.5002 - val_accuracy: 0.8450\n",
            "Epoch 18/1000\n",
            "25/25 [==============================] - 0s 5ms/step - loss: 0.4733 - accuracy: 0.8606 - val_loss: 0.4665 - val_accuracy: 0.8450\n",
            "Epoch 19/1000\n",
            "25/25 [==============================] - 0s 5ms/step - loss: 0.4419 - accuracy: 0.8775 - val_loss: 0.4363 - val_accuracy: 0.8575\n",
            "Epoch 20/1000\n",
            "25/25 [==============================] - 0s 5ms/step - loss: 0.4123 - accuracy: 0.8875 - val_loss: 0.4142 - val_accuracy: 0.8700\n",
            "Epoch 21/1000\n",
            "25/25 [==============================] - 0s 6ms/step - loss: 0.3866 - accuracy: 0.8963 - val_loss: 0.3878 - val_accuracy: 0.8725\n",
            "Epoch 22/1000\n",
            "25/25 [==============================] - 0s 5ms/step - loss: 0.3621 - accuracy: 0.9031 - val_loss: 0.3687 - val_accuracy: 0.8825\n",
            "Epoch 23/1000\n",
            "25/25 [==============================] - 0s 6ms/step - loss: 0.3398 - accuracy: 0.9119 - val_loss: 0.3475 - val_accuracy: 0.8800\n",
            "Epoch 24/1000\n",
            "25/25 [==============================] - 0s 5ms/step - loss: 0.3186 - accuracy: 0.9131 - val_loss: 0.3320 - val_accuracy: 0.8775\n",
            "Epoch 25/1000\n",
            "25/25 [==============================] - 0s 5ms/step - loss: 0.3003 - accuracy: 0.9206 - val_loss: 0.3145 - val_accuracy: 0.8825\n",
            "Epoch 26/1000\n",
            "25/25 [==============================] - 0s 5ms/step - loss: 0.2821 - accuracy: 0.9287 - val_loss: 0.3011 - val_accuracy: 0.8925\n",
            "Epoch 27/1000\n",
            "25/25 [==============================] - 0s 5ms/step - loss: 0.2674 - accuracy: 0.9269 - val_loss: 0.2851 - val_accuracy: 0.8925\n",
            "Epoch 28/1000\n",
            "25/25 [==============================] - 0s 5ms/step - loss: 0.2521 - accuracy: 0.9306 - val_loss: 0.2750 - val_accuracy: 0.9025\n",
            "Epoch 29/1000\n",
            "25/25 [==============================] - 0s 5ms/step - loss: 0.2395 - accuracy: 0.9325 - val_loss: 0.2652 - val_accuracy: 0.9000\n",
            "Epoch 30/1000\n",
            "25/25 [==============================] - 0s 5ms/step - loss: 0.2269 - accuracy: 0.9369 - val_loss: 0.2522 - val_accuracy: 0.9125\n",
            "Epoch 31/1000\n",
            "25/25 [==============================] - 0s 5ms/step - loss: 0.2161 - accuracy: 0.9362 - val_loss: 0.2435 - val_accuracy: 0.9125\n",
            "Epoch 32/1000\n",
            "25/25 [==============================] - 0s 5ms/step - loss: 0.2061 - accuracy: 0.9388 - val_loss: 0.2352 - val_accuracy: 0.9150\n",
            "Epoch 33/1000\n",
            "25/25 [==============================] - 0s 5ms/step - loss: 0.1974 - accuracy: 0.9406 - val_loss: 0.2273 - val_accuracy: 0.9200\n",
            "Epoch 34/1000\n",
            "25/25 [==============================] - 0s 5ms/step - loss: 0.1895 - accuracy: 0.9456 - val_loss: 0.2213 - val_accuracy: 0.9200\n",
            "Epoch 35/1000\n",
            "25/25 [==============================] - 0s 5ms/step - loss: 0.1817 - accuracy: 0.9475 - val_loss: 0.2163 - val_accuracy: 0.9275\n",
            "Epoch 36/1000\n",
            "25/25 [==============================] - 0s 5ms/step - loss: 0.1764 - accuracy: 0.9506 - val_loss: 0.2113 - val_accuracy: 0.9175\n",
            "Epoch 37/1000\n",
            "25/25 [==============================] - 0s 5ms/step - loss: 0.1691 - accuracy: 0.9513 - val_loss: 0.2033 - val_accuracy: 0.9225\n",
            "Epoch 38/1000\n",
            "25/25 [==============================] - 0s 5ms/step - loss: 0.1626 - accuracy: 0.9550 - val_loss: 0.1997 - val_accuracy: 0.9200\n",
            "Epoch 39/1000\n",
            "25/25 [==============================] - 0s 5ms/step - loss: 0.1568 - accuracy: 0.9581 - val_loss: 0.1965 - val_accuracy: 0.9275\n",
            "Epoch 40/1000\n",
            "25/25 [==============================] - 0s 5ms/step - loss: 0.1527 - accuracy: 0.9569 - val_loss: 0.1899 - val_accuracy: 0.9225\n",
            "Epoch 41/1000\n",
            "25/25 [==============================] - 0s 5ms/step - loss: 0.1464 - accuracy: 0.9575 - val_loss: 0.1886 - val_accuracy: 0.9275\n",
            "Epoch 42/1000\n",
            "25/25 [==============================] - 0s 5ms/step - loss: 0.1421 - accuracy: 0.9631 - val_loss: 0.1827 - val_accuracy: 0.9300\n",
            "Epoch 43/1000\n",
            "25/25 [==============================] - 0s 5ms/step - loss: 0.1368 - accuracy: 0.9656 - val_loss: 0.1840 - val_accuracy: 0.9250\n",
            "Epoch 44/1000\n",
            "25/25 [==============================] - 0s 5ms/step - loss: 0.1336 - accuracy: 0.9638 - val_loss: 0.1755 - val_accuracy: 0.9300\n",
            "Epoch 45/1000\n",
            "25/25 [==============================] - 0s 5ms/step - loss: 0.1290 - accuracy: 0.9681 - val_loss: 0.1778 - val_accuracy: 0.9250\n",
            "Epoch 46/1000\n",
            "25/25 [==============================] - 0s 6ms/step - loss: 0.1252 - accuracy: 0.9688 - val_loss: 0.1716 - val_accuracy: 0.9300\n",
            "Epoch 47/1000\n",
            "25/25 [==============================] - 0s 5ms/step - loss: 0.1221 - accuracy: 0.9706 - val_loss: 0.1697 - val_accuracy: 0.9325\n",
            "Epoch 48/1000\n",
            "25/25 [==============================] - 0s 5ms/step - loss: 0.1194 - accuracy: 0.9675 - val_loss: 0.1669 - val_accuracy: 0.9300\n",
            "Epoch 49/1000\n",
            "25/25 [==============================] - 0s 5ms/step - loss: 0.1150 - accuracy: 0.9750 - val_loss: 0.1682 - val_accuracy: 0.9300\n",
            "Epoch 50/1000\n",
            "25/25 [==============================] - 0s 7ms/step - loss: 0.1122 - accuracy: 0.9750 - val_loss: 0.1641 - val_accuracy: 0.9325\n",
            "Epoch 51/1000\n",
            "25/25 [==============================] - 0s 5ms/step - loss: 0.1094 - accuracy: 0.9762 - val_loss: 0.1661 - val_accuracy: 0.9325\n",
            "Epoch 52/1000\n",
            "25/25 [==============================] - 0s 5ms/step - loss: 0.1063 - accuracy: 0.9737 - val_loss: 0.1601 - val_accuracy: 0.9375\n",
            "Epoch 53/1000\n",
            "25/25 [==============================] - 0s 5ms/step - loss: 0.1030 - accuracy: 0.9787 - val_loss: 0.1592 - val_accuracy: 0.9325\n",
            "Epoch 54/1000\n",
            "25/25 [==============================] - 0s 5ms/step - loss: 0.1008 - accuracy: 0.9787 - val_loss: 0.1562 - val_accuracy: 0.9300\n",
            "Epoch 55/1000\n",
            "25/25 [==============================] - 0s 5ms/step - loss: 0.0986 - accuracy: 0.9769 - val_loss: 0.1584 - val_accuracy: 0.9275\n",
            "Epoch 56/1000\n",
            "25/25 [==============================] - 0s 5ms/step - loss: 0.0957 - accuracy: 0.9825 - val_loss: 0.1582 - val_accuracy: 0.9325\n",
            "Epoch 57/1000\n",
            "25/25 [==============================] - 0s 5ms/step - loss: 0.0942 - accuracy: 0.9812 - val_loss: 0.1535 - val_accuracy: 0.9350\n",
            "Epoch 58/1000\n",
            "25/25 [==============================] - 0s 5ms/step - loss: 0.0918 - accuracy: 0.9806 - val_loss: 0.1536 - val_accuracy: 0.9325\n",
            "Epoch 59/1000\n",
            "25/25 [==============================] - 0s 5ms/step - loss: 0.0891 - accuracy: 0.9825 - val_loss: 0.1539 - val_accuracy: 0.9300\n",
            "Epoch 60/1000\n",
            "25/25 [==============================] - 0s 6ms/step - loss: 0.0884 - accuracy: 0.9819 - val_loss: 0.1551 - val_accuracy: 0.9375\n",
            "Epoch 61/1000\n",
            "25/25 [==============================] - 0s 5ms/step - loss: 0.0854 - accuracy: 0.9850 - val_loss: 0.1509 - val_accuracy: 0.9325\n",
            "Epoch 62/1000\n",
            "25/25 [==============================] - 0s 5ms/step - loss: 0.0834 - accuracy: 0.9850 - val_loss: 0.1503 - val_accuracy: 0.9325\n",
            "Epoch 63/1000\n",
            "25/25 [==============================] - 0s 5ms/step - loss: 0.0822 - accuracy: 0.9869 - val_loss: 0.1515 - val_accuracy: 0.9400\n",
            "Epoch 64/1000\n",
            "25/25 [==============================] - 0s 5ms/step - loss: 0.0797 - accuracy: 0.9837 - val_loss: 0.1484 - val_accuracy: 0.9325\n",
            "Epoch 65/1000\n",
            "25/25 [==============================] - 0s 5ms/step - loss: 0.0781 - accuracy: 0.9862 - val_loss: 0.1506 - val_accuracy: 0.9325\n",
            "Epoch 66/1000\n",
            "25/25 [==============================] - 0s 6ms/step - loss: 0.0772 - accuracy: 0.9837 - val_loss: 0.1479 - val_accuracy: 0.9275\n",
            "Epoch 67/1000\n",
            "25/25 [==============================] - 0s 5ms/step - loss: 0.0745 - accuracy: 0.9875 - val_loss: 0.1486 - val_accuracy: 0.9300\n",
            "Epoch 68/1000\n",
            "25/25 [==============================] - 0s 5ms/step - loss: 0.0730 - accuracy: 0.9900 - val_loss: 0.1479 - val_accuracy: 0.9300\n",
            "Epoch 69/1000\n",
            "25/25 [==============================] - 0s 5ms/step - loss: 0.0718 - accuracy: 0.9869 - val_loss: 0.1467 - val_accuracy: 0.9325\n",
            "Epoch 70/1000\n",
            "25/25 [==============================] - 0s 5ms/step - loss: 0.0700 - accuracy: 0.9887 - val_loss: 0.1479 - val_accuracy: 0.9350\n",
            "Epoch 71/1000\n",
            "25/25 [==============================] - 0s 5ms/step - loss: 0.0683 - accuracy: 0.9887 - val_loss: 0.1489 - val_accuracy: 0.9325\n",
            "Epoch 72/1000\n",
            "25/25 [==============================] - 0s 5ms/step - loss: 0.0675 - accuracy: 0.9894 - val_loss: 0.1467 - val_accuracy: 0.9325\n",
            "Epoch 73/1000\n",
            "25/25 [==============================] - 0s 5ms/step - loss: 0.0671 - accuracy: 0.9887 - val_loss: 0.1478 - val_accuracy: 0.9350\n",
            "Epoch 74/1000\n",
            "25/25 [==============================] - 0s 5ms/step - loss: 0.0650 - accuracy: 0.9894 - val_loss: 0.1475 - val_accuracy: 0.9350\n",
            "Epoch 75/1000\n",
            "25/25 [==============================] - 0s 5ms/step - loss: 0.0639 - accuracy: 0.9894 - val_loss: 0.1449 - val_accuracy: 0.9325\n",
            "Epoch 76/1000\n",
            "25/25 [==============================] - 0s 5ms/step - loss: 0.0628 - accuracy: 0.9887 - val_loss: 0.1486 - val_accuracy: 0.9275\n",
            "Epoch 77/1000\n",
            "25/25 [==============================] - 0s 5ms/step - loss: 0.0609 - accuracy: 0.9906 - val_loss: 0.1471 - val_accuracy: 0.9375\n",
            "Epoch 78/1000\n",
            "25/25 [==============================] - 0s 5ms/step - loss: 0.0596 - accuracy: 0.9881 - val_loss: 0.1472 - val_accuracy: 0.9350\n",
            "Epoch 79/1000\n",
            "25/25 [==============================] - 0s 4ms/step - loss: 0.0587 - accuracy: 0.9900 - val_loss: 0.1469 - val_accuracy: 0.9350\n",
            "Epoch 80/1000\n",
            "25/25 [==============================] - 0s 5ms/step - loss: 0.0575 - accuracy: 0.9894 - val_loss: 0.1495 - val_accuracy: 0.9350\n",
            "Epoch 81/1000\n",
            "25/25 [==============================] - 0s 5ms/step - loss: 0.0569 - accuracy: 0.9906 - val_loss: 0.1463 - val_accuracy: 0.9300\n",
            "Epoch 82/1000\n",
            "25/25 [==============================] - 0s 5ms/step - loss: 0.0554 - accuracy: 0.9919 - val_loss: 0.1456 - val_accuracy: 0.9400\n",
            "Epoch 83/1000\n",
            "25/25 [==============================] - 0s 5ms/step - loss: 0.0541 - accuracy: 0.9919 - val_loss: 0.1455 - val_accuracy: 0.9375\n",
            "Epoch 84/1000\n",
            "25/25 [==============================] - 0s 5ms/step - loss: 0.0533 - accuracy: 0.9906 - val_loss: 0.1481 - val_accuracy: 0.9400\n",
            "Epoch 85/1000\n",
            "25/25 [==============================] - 0s 5ms/step - loss: 0.0528 - accuracy: 0.9925 - val_loss: 0.1491 - val_accuracy: 0.9350\n",
            "Epoch 85: early stopping\n"
          ]
        }
      ]
    },
    {
      "cell_type": "markdown",
      "source": [
        "## Evaluate the Model"
      ],
      "metadata": {
        "id": "U1YYDqRaFWGJ"
      }
    },
    {
      "cell_type": "markdown",
      "source": [
        "We can test the accuracy of predicting one data from the testing data set as shown below."
      ],
      "metadata": {
        "id": "R-haSUD9FZ4w"
      }
    },
    {
      "cell_type": "code",
      "source": [
        "model.evaluate(X_test, y_test)[1]"
      ],
      "metadata": {
        "colab": {
          "base_uri": "https://localhost:8080/"
        },
        "id": "dIRdpjqATgEv",
        "outputId": "85bdcce2-7523-4e2b-df31-3f865c169bee"
      },
      "execution_count": 219,
      "outputs": [
        {
          "output_type": "stream",
          "name": "stdout",
          "text": [
            "13/13 [==============================] - 0s 3ms/step - loss: 0.1491 - accuracy: 0.9350\n"
          ]
        },
        {
          "output_type": "execute_result",
          "data": {
            "text/plain": [
              "0.9350000023841858"
            ]
          },
          "metadata": {},
          "execution_count": 219
        }
      ]
    },
    {
      "cell_type": "markdown",
      "source": [
        "We could also evaluate the entire model's performance on the testing data as shown below"
      ],
      "metadata": {
        "id": "jgw55r9bFuzt"
      }
    },
    {
      "cell_type": "code",
      "source": [
        "y_pred = model.predict(X_test)\n",
        "#Converting predictions to label\n",
        "pred = list()\n",
        "for i in range(len(y_pred)):\n",
        "    pred.append(np.argmax(y_pred[i]))\n",
        "#Converting one hot encoded test label to label\n",
        "test = list()\n",
        "for i in range(len(y_test)):\n",
        "    test.append(np.argmax(y_test[i]))"
      ],
      "metadata": {
        "colab": {
          "base_uri": "https://localhost:8080/"
        },
        "id": "JKf1zju-qpvc",
        "outputId": "ee71ee52-41e4-4d4d-c23a-bb9cd90663e2"
      },
      "execution_count": 220,
      "outputs": [
        {
          "output_type": "stream",
          "name": "stdout",
          "text": [
            "13/13 [==============================] - 0s 3ms/step\n"
          ]
        }
      ]
    },
    {
      "cell_type": "markdown",
      "source": [
        "We can get the accuracy value as shown below."
      ],
      "metadata": {
        "id": "S4u7ZvREGDzq"
      }
    },
    {
      "cell_type": "code",
      "source": [
        "from sklearn.metrics import accuracy_score\n",
        "a = accuracy_score(pred,test)\n",
        "print('Accuracy is:', a*100)"
      ],
      "metadata": {
        "colab": {
          "base_uri": "https://localhost:8080/"
        },
        "id": "9qTXt18TqrkL",
        "outputId": "469a5947-4a1f-414d-f0f0-28fe26a41dce"
      },
      "execution_count": 221,
      "outputs": [
        {
          "output_type": "stream",
          "name": "stdout",
          "text": [
            "Accuracy is: 93.5\n"
          ]
        }
      ]
    },
    {
      "cell_type": "markdown",
      "source": [
        "### Visualizing the performance"
      ],
      "metadata": {
        "id": "-zTiszSiG7VX"
      }
    },
    {
      "cell_type": "markdown",
      "source": [
        "We can use matplotlib to plot a accuracy against epoch plot to visualize the change in accuracy for test and train set of the model.\n"
      ],
      "metadata": {
        "id": "biq1B9xiG-6A"
      }
    },
    {
      "cell_type": "code",
      "source": [
        "import matplotlib.pyplot as plt\n",
        "plt.plot(model_history.history['accuracy'])\n",
        "plt.plot(model_history.history['val_accuracy'])\n",
        "plt.title('Model accuracy')\n",
        "plt.ylabel('Accuracy')\n",
        "plt.xlabel('Epoch')\n",
        "plt.legend(['Train', 'Test'], loc='upper left')\n",
        "plt.show()"
      ],
      "metadata": {
        "colab": {
          "base_uri": "https://localhost:8080/",
          "height": 295
        },
        "id": "01Ozg9NhqwNy",
        "outputId": "0642856b-48b0-448c-c54c-d87755fa3511"
      },
      "execution_count": 222,
      "outputs": [
        {
          "output_type": "display_data",
          "data": {
            "text/plain": [
              "<Figure size 432x288 with 1 Axes>"
            ],
            "image/png": "[encoded data removed]"
          },
          "metadata": {
            "needs_background": "light"
          }
        }
      ]
    },
    {
      "cell_type": "code",
      "source": [
        "plt.plot(model_history.history['loss']) \n",
        "plt.plot(model_history.history['val_loss']) \n",
        "plt.title('Model loss') \n",
        "plt.ylabel('Loss') \n",
        "plt.xlabel('Epoch') \n",
        "plt.legend(['Train', 'Test'], loc='upper left') \n",
        "plt.show()"
      ],
      "metadata": {
        "colab": {
          "base_uri": "https://localhost:8080/",
          "height": 295
        },
        "id": "7ph1ZvnFrYVS",
        "outputId": "6cbccbf4-273d-4f61-ffad-f04f1aa8cdbe"
      },
      "execution_count": 223,
      "outputs": [
        {
          "output_type": "display_data",
          "data": {
            "text/plain": [
              "<Figure size 432x288 with 1 Axes>"
            ],
            "image/png": "[encoded data removed]"
          },
          "metadata": {
            "needs_background": "light"
          }
        }
      ]
    },
    {
      "cell_type": "markdown",
      "source": [
        "Hence we can see that the model has good speed of convergence. And also we have taken many steps to prevent overfitting problem, hence that is also under control. Early stopping is an important regularization technique to prevent overfitting, in addition to keeping the network simple and using appropriate optimizer."
      ],
      "metadata": {
        "id": "i75Rb8IsHf5u"
      }
    },
    {
      "cell_type": "markdown",
      "source": [
        "# Conclusion\n",
        "Hence we can see that both the models have very good accuracies (over 92%), and there is no big difference in accuracies. This is because the dataset is not extremely large and complex, hence a simple ML algorithm like KNN can also perform almost as good as a Neural Network. But in cases where the dataset is very complex with many features, then a neural network would outperform most algorithms easily."
      ],
      "metadata": {
        "id": "xEoixnMsIk7P"
      }
    },
    {
      "cell_type": "markdown",
      "source": [
        "# Saving"
      ],
      "metadata": {
        "id": "pcLVlCcvJ-Jq"
      }
    },
    {
      "cell_type": "code",
      "source": [
        "json_string = model.to_json() # as json \n",
        "open('mobile_price_classifier_AS2019459.json', 'w').write(json_string)\n",
        "# save the weights in h5 format \n",
        "model.save_weights('mobile_price_classifier_AS2019459_wts.h5')"
      ],
      "metadata": {
        "id": "FMGHFwhiJ-7X"
      },
      "execution_count": 224,
      "outputs": []
    }
  ],
  "metadata": {
    "kernelspec": {
      "display_name": "Tensorflow (GPU)",
      "language": "python",
      "name": "py3.6-tfgpu"
    },
    "language_info": {
      "codemirror_mode": {
        "name": "ipython",
        "version": 3
      },
      "file_extension": ".py",
      "mimetype": "text/x-python",
      "name": "python",
      "nbconvert_exporter": "python",
      "pygments_lexer": "ipython3",
      "version": "3.6.6"
    },
    "colab": {
      "provenance": [],
      "include_colab_link": true
    }
  },
  "nbformat": 4,
  "nbformat_minor": 0
}